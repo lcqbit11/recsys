{
 "cells": [
  {
   "cell_type": "code",
   "execution_count": 1,
   "metadata": {},
   "outputs": [],
   "source": [
    "import threading\n",
    "import time\n"
   ]
  },
  {
   "cell_type": "code",
   "execution_count": 2,
   "metadata": {},
   "outputs": [],
   "source": [
    "def a():\n",
    "    for x in range(3):\n",
    "        print(\"x: %d\" % x, '\\n')\n",
    "        time.sleep(1)\n",
    "\n",
    "def b():\n",
    "    for x in range(3):\n",
    "        print(x)\n",
    "        time.sleep(1)\n",
    "            \n",
    "def c():\n",
    "    for x in range(3):\n",
    "        print(x)\n",
    "        time.sleep(1)            "
   ]
  },
  {
   "cell_type": "code",
   "execution_count": 3,
   "metadata": {},
   "outputs": [
    {
     "name": "stdout",
     "output_type": "stream",
     "text": [
      "x: 0 \n",
      "\n",
      "x: 1 \n",
      "\n",
      "x: 2 \n",
      "\n"
     ]
    }
   ],
   "source": [
    "a()"
   ]
  },
  {
   "cell_type": "code",
   "execution_count": 4,
   "metadata": {},
   "outputs": [],
   "source": [
    "aa = threading.Thread(target=a)\n",
    "bb = threading.Thread(target=b)\n",
    "cc = threading.Thread(target=c)"
   ]
  },
  {
   "cell_type": "code",
   "execution_count": 5,
   "metadata": {
    "scrolled": false
   },
   "outputs": [
    {
     "name": "stdout",
     "output_type": "stream",
     "text": [
      "x: 0 \n",
      "\n",
      "0\n",
      "0\n",
      "x: 1 \n",
      "\n",
      "1\n",
      "1\n",
      "x: 2 \n",
      "\n",
      "2\n",
      "2\n"
     ]
    }
   ],
   "source": [
    "aa.start()\n",
    "bb.start()\n",
    "cc.start()"
   ]
  },
  {
   "cell_type": "code",
   "execution_count": 6,
   "metadata": {},
   "outputs": [
    {
     "name": "stdout",
     "output_type": "stream",
     "text": [
      "x: 0 \n",
      "\n",
      "x: 0 \n",
      "\n",
      "x: 0 \n",
      "\n",
      "x: 1x: 1x: 1 \n",
      "\n",
      " \n",
      " \n",
      "\n",
      "\n",
      "x: 2 \n",
      "\n",
      "x: 2 \n",
      "\n",
      "x: 2 \n",
      "\n"
     ]
    }
   ],
   "source": [
    "res = []\n",
    "for i in range(3):\n",
    "    tmp = threading.Thread(target=a)\n",
    "    res.append(tmp)\n",
    "    \n",
    "for i in range(3):\n",
    "    res[i].start()\n",
    "    "
   ]
  },
  {
   "cell_type": "code",
   "execution_count": null,
   "metadata": {},
   "outputs": [],
   "source": []
  }
 ],
 "metadata": {
  "kernelspec": {
   "display_name": "Python 3",
   "language": "python",
   "name": "python3"
  },
  "language_info": {
   "codemirror_mode": {
    "name": "ipython",
    "version": 3
   },
   "file_extension": ".py",
   "mimetype": "text/x-python",
   "name": "python",
   "nbconvert_exporter": "python",
   "pygments_lexer": "ipython3",
   "version": "3.7.3"
  }
 },
 "nbformat": 4,
 "nbformat_minor": 2
}
