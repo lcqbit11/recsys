{
 "cells": [
  {
   "cell_type": "code",
   "execution_count": 1,
   "metadata": {},
   "outputs": [],
   "source": [
    "#!/usr/bin/env python\n",
    "# -*- coding: utf-8 -*-\n",
    "\n",
    "\"\"\"\n",
    ":parameter\n",
    "--------------------\n",
    "data: n-array like\n",
    "[\n",
    "[1.0 2.3 2.1 0.2]\n",
    "[0.0 2.4 1.1 0.7]\n",
    "]\n",
    "每个元素都是有表示距离的属性的，对于没有距离属性的要抓化成具有距离属性的\n",
    "\"\"\"\n",
    "\n",
    "from sklearn.cluster import KMeans, MiniBatchKMeans\n",
    "from sklearn.preprocessing import StandardScaler, MinMaxScaler\n",
    "from sklearn.model_selection import train_test_split\n",
    "from sklearn.manifold import TSNE\n",
    "import pandas as pd\n",
    "import numpy as np\n",
    "import matplotlib.pyplot as plt \n",
    "from mpl_toolkits.mplot3d import axes3d\n",
    "from mpl_toolkits.mplot3d import Axes3D\n",
    "from geopy.distance import geodesic\n",
    "\n",
    "\n",
    "dir_name = '/Users/changqingli/data/time_space_cluster/'\n",
    "feat_file_mini = 'fs_mini'\n",
    "feat_file_all = 'fs_all'  # time,lant,long,geohash,buname\n",
    "feat_file_user_shanghai_mini = 'fs_user_shanghai_mini'\n",
    "feat_file_user_shanghai_all = 'fs_user_shanghai_all'  # userid,time,lant,long,geohash,buname\n",
    "feat_file_user_consume_shanghai_mini = 'fs_user_consume_mini'  # 32398964 2019-09-13 12:49:40 31.226408 121.49096 到餐 春风松月楼素菜馆 dining 城隍庙/豫园 1\n",
    "\n",
    "\n",
    "def key_count(cluster_y):\n",
    "    m = {}\n",
    "    for i in cluster_y:\n",
    "        if i not in m:\n",
    "            m.setdefault(i, 0)\n",
    "        m[i] += 1\n",
    "    res = sorted(m.items(), key=lambda x: x[1], reverse=True)\n",
    "    return res\n",
    "\n"
   ]
  },
  {
   "cell_type": "code",
   "execution_count": 2,
   "metadata": {},
   "outputs": [],
   "source": [
    "f_data = []\n",
    "user_info = {}\n",
    "hour_info = {}\n",
    "user_base = []\n",
    "consume_poi_type = {}\n",
    "consume_poi_type_time = {}\n",
    "consume_poi_lbs = []\n",
    "\n",
    "with open(dir_name + feat_file_user_consume_shanghai_mini, 'r') as f:\n",
    "    for line in f:\n",
    "        line = line.strip().split(\"\\t\")\n",
    "        if float(line[2])<30.40 or float(line[2])>31.53 or float(line[3])<120.52 or float(line[3])>122.12:\n",
    "            continue\n",
    "        line.insert(2, line[1][:4])  # _year\n",
    "        line.insert(2, line[1][5:7])  # _month\n",
    "        line.insert(2, line[1][8:10])  # _date\n",
    "        line.insert(2, line[1][11:13])  # _hour\n",
    "        \n",
    "        if line[2] not in consume_poi_type:\n",
    "            consume_poi_type[line[2]] = {}\n",
    "        if line[-3] not in consume_poi_type[line[2]]:\n",
    "            consume_poi_type[line[2]][line[-3]] = 0\n",
    "        consume_poi_type[line[2]][line[-3]] += 1\n",
    "        \n",
    "        if line[-3] not in consume_poi_type_time:\n",
    "            consume_poi_type_time[line[-3]] = {}\n",
    "        if line[2] not in consume_poi_type_time[line[-3]]:\n",
    "            consume_poi_type_time[line[-3]][line[2]] = 0\n",
    "        consume_poi_type_time[line[-3]][line[2]] += 1\n",
    "\n",
    "        tmp = [line[2]]\n",
    "        tmp.extend(line[6:8])\n",
    "        consume_poi_lbs.append(tmp)\n",
    "        \n"
   ]
  },
  {
   "cell_type": "code",
   "execution_count": 17,
   "metadata": {},
   "outputs": [
    {
     "data": {
      "text/plain": [
       "24763"
      ]
     },
     "execution_count": 17,
     "metadata": {},
     "output_type": "execute_result"
    }
   ],
   "source": [
    "len(consume_poi_lbs)\n"
   ]
  },
  {
   "cell_type": "code",
   "execution_count": 4,
   "metadata": {},
   "outputs": [],
   "source": [
    "# f_data_tmp = consume_poi_lbs\n",
    "f_data_tmp = np.array(consume_poi_lbs)\n",
    "f_data = f_data_tmp\n",
    "scale = MinMaxScaler()\n",
    "scale.fit(f_data)\n",
    "f_data_transform = scale.transform(f_data)\n",
    "\n",
    "\n"
   ]
  },
  {
   "cell_type": "code",
   "execution_count": 5,
   "metadata": {},
   "outputs": [
    {
     "name": "stdout",
     "output_type": "stream",
     "text": [
      "[(6, 6198), (2, 4867), (3, 4197), (0, 3865), (7, 2318), (4, 1842), (5, 924), (1, 551)]\n"
     ]
    }
   ],
   "source": [
    "k_means = KMeans()\n",
    "k_means.fit(f_data_transform[1:])\n",
    "cluster_train_counts = key_count(k_means.labels_)\n",
    "print(cluster_train_counts)\n",
    "\n"
   ]
  },
  {
   "cell_type": "code",
   "execution_count": 6,
   "metadata": {},
   "outputs": [],
   "source": [
    "test_label = np.reshape(k_means.labels_, [len(k_means.labels_), -1])\n",
    "\n",
    "\n"
   ]
  },
  {
   "cell_type": "code",
   "execution_count": 16,
   "metadata": {},
   "outputs": [
    {
     "data": {
      "text/plain": [
       "(24763, 2)"
      ]
     },
     "execution_count": 16,
     "metadata": {},
     "output_type": "execute_result"
    }
   ],
   "source": [
    "np.shape(f_data_transform[:, 1:])\n"
   ]
  },
  {
   "cell_type": "code",
   "execution_count": 9,
   "metadata": {},
   "outputs": [
    {
     "ename": "ValueError",
     "evalue": "all the input array dimensions except for the concatenation axis must match exactly",
     "output_type": "error",
     "traceback": [
      "\u001b[0;31m---------------------------------------------------------------------------\u001b[0m",
      "\u001b[0;31mValueError\u001b[0m                                Traceback (most recent call last)",
      "\u001b[0;32m<ipython-input-9-7cab4e83d70a>\u001b[0m in \u001b[0;36m<module>\u001b[0;34m\u001b[0m\n\u001b[1;32m      2\u001b[0m \u001b[0;31m# df=pd.DataFrame(cluster_test, columns=['userid', 'f_0', 'f_1', 'label']) #转换数据格式\u001b[0m\u001b[0;34m\u001b[0m\u001b[0;34m\u001b[0m\u001b[0;34m\u001b[0m\u001b[0m\n\u001b[1;32m      3\u001b[0m \u001b[0;34m\u001b[0m\u001b[0m\n\u001b[0;32m----> 4\u001b[0;31m \u001b[0mcluster_test\u001b[0m \u001b[0;34m=\u001b[0m \u001b[0mnp\u001b[0m\u001b[0;34m.\u001b[0m\u001b[0mconcatenate\u001b[0m\u001b[0;34m(\u001b[0m\u001b[0;34m(\u001b[0m\u001b[0mf_data_transform\u001b[0m\u001b[0;34m[\u001b[0m\u001b[0;34m:\u001b[0m\u001b[0;34m,\u001b[0m \u001b[0;36m1\u001b[0m\u001b[0;34m:\u001b[0m\u001b[0;34m]\u001b[0m\u001b[0;34m,\u001b[0m \u001b[0mtest_label\u001b[0m\u001b[0;34m.\u001b[0m\u001b[0mreshape\u001b[0m\u001b[0;34m(\u001b[0m\u001b[0;34m[\u001b[0m\u001b[0mlen\u001b[0m\u001b[0;34m(\u001b[0m\u001b[0mtest_label\u001b[0m\u001b[0;34m)\u001b[0m\u001b[0;34m,\u001b[0m \u001b[0;36m1\u001b[0m\u001b[0;34m]\u001b[0m\u001b[0;34m)\u001b[0m\u001b[0;34m)\u001b[0m\u001b[0;34m,\u001b[0m \u001b[0maxis\u001b[0m\u001b[0;34m=\u001b[0m\u001b[0;36m1\u001b[0m\u001b[0;34m)\u001b[0m\u001b[0;34m\u001b[0m\u001b[0;34m\u001b[0m\u001b[0m\n\u001b[0m\u001b[1;32m      5\u001b[0m \u001b[0mdf\u001b[0m\u001b[0;34m=\u001b[0m\u001b[0mpd\u001b[0m\u001b[0;34m.\u001b[0m\u001b[0mDataFrame\u001b[0m\u001b[0;34m(\u001b[0m\u001b[0mcluster_test\u001b[0m\u001b[0;34m,\u001b[0m \u001b[0mcolumns\u001b[0m\u001b[0;34m=\u001b[0m\u001b[0;34m[\u001b[0m\u001b[0;34m'f_0'\u001b[0m\u001b[0;34m,\u001b[0m \u001b[0;34m'f_1'\u001b[0m\u001b[0;34m,\u001b[0m \u001b[0;34m'label'\u001b[0m\u001b[0;34m]\u001b[0m\u001b[0;34m)\u001b[0m \u001b[0;31m#转换数据格式\u001b[0m\u001b[0;34m\u001b[0m\u001b[0;34m\u001b[0m\u001b[0m\n\u001b[1;32m      6\u001b[0m \u001b[0;34m\u001b[0m\u001b[0m\n",
      "\u001b[0;31mValueError\u001b[0m: all the input array dimensions except for the concatenation axis must match exactly"
     ]
    }
   ],
   "source": [
    "# cluster_test = np.concatenate((np.reshape(f_data_tmp[:, 0], [len(f_data_tmp), 1]), f_data_transform[:, 4:], test_label.reshape([len(test_label), 1])), axis=1)\n",
    "# df=pd.DataFrame(cluster_test, columns=['userid', 'f_0', 'f_1', 'label']) #转换数据格式\n",
    "\n",
    "cluster_test = np.concatenate((f_data_transform[:, 1:], test_label.reshape([len(test_label), 1])), axis=1)\n",
    "df=pd.DataFrame(cluster_test, columns=['f_0', 'f_1', 'label']) #转换数据格式\n",
    "\n",
    "\n",
    "# df['userid'] = df['userid'].astype(\"int\")\n",
    "df['f_0'] = df['f_0'].astype(\"float\")\n",
    "df['f_1'] = df['f_1'].astype(\"float\")\n",
    "df['label'] = df['label'].astype(\"int\")\n",
    "\n",
    "\n",
    "df.dtypes\n",
    "\n"
   ]
  },
  {
   "cell_type": "code",
   "execution_count": null,
   "metadata": {},
   "outputs": [],
   "source": [
    "df.head()"
   ]
  },
  {
   "cell_type": "code",
   "execution_count": null,
   "metadata": {},
   "outputs": [],
   "source": [
    "\n",
    "colr = ['#E15759', '#4E79A7', '#76B7B2', '#F28E2B','blue','#F45E2B','#F67E2B', 'r']\n",
    "\n",
    "plt.figure(figsize=(7, 7), dpi=80)\n",
    "axes = plt.subplot(111)\n",
    "types = []\n",
    "nums = []\n",
    "for i in range(8):\n",
    "    ii = str(i)\n",
    "    d=df[df['label']==i]\n",
    "    print(\"label %d has %d sample\" % (i, len(d['f_1'].values)))\n",
    "    type1 = axes.scatter(d['f_0'].values, d['f_1'].values, s=20, c=colr[i])\n",
    "    types.append(type1)\n",
    "    nums.append(str(i) + '_' + str(len(d['f_1'].values)))\n",
    "axes.legend(types, nums, loc=2)\n",
    "\n",
    "d=df[df['label']==2]\n",
    " "
   ]
  },
  {
   "cell_type": "code",
   "execution_count": null,
   "metadata": {},
   "outputs": [],
   "source": [
    "import geopandas as gp"
   ]
  },
  {
   "cell_type": "code",
   "execution_count": null,
   "metadata": {},
   "outputs": [],
   "source": []
  }
 ],
 "metadata": {
  "kernelspec": {
   "display_name": "Python 3",
   "language": "python",
   "name": "python3"
  },
  "language_info": {
   "codemirror_mode": {
    "name": "ipython",
    "version": 3
   },
   "file_extension": ".py",
   "mimetype": "text/x-python",
   "name": "python",
   "nbconvert_exporter": "python",
   "pygments_lexer": "ipython3",
   "version": "3.7.3"
  }
 },
 "nbformat": 4,
 "nbformat_minor": 2
}
