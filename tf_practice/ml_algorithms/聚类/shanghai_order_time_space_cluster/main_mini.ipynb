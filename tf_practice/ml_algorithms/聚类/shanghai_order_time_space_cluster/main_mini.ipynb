{
 "cells": [
  {
   "cell_type": "code",
   "execution_count": 1,
   "metadata": {},
   "outputs": [],
   "source": [
    "#!/usr/bin/env python\n",
    "# -*- coding: utf-8 -*-\n",
    "\n",
    "\"\"\"\n",
    ":parameter\n",
    "--------------------\n",
    "data: n-array like\n",
    "[\n",
    "[1.0 2.3 2.1 0.2]\n",
    "[0.0 2.4 1.1 0.7]\n",
    "]\n",
    "每个元素都是有表示距离的属性的，对于没有距离属性的要抓化成具有距离属性的\n",
    "\"\"\"\n",
    "\n",
    "from sklearn.cluster import KMeans, MiniBatchKMeans\n",
    "from sklearn.preprocessing import StandardScaler, MinMaxScaler\n",
    "from sklearn.model_selection import train_test_split\n",
    "from sklearn.manifold import TSNE\n",
    "import pandas as pd\n",
    "import numpy as np\n",
    "import matplotlib.pyplot as plt \n",
    "\n",
    "dir_name = '/Users/changqingli/data/time_space_cluster/'\n",
    "feat_file_mini = 'fs_mini'\n",
    "feat_file_all = 'fs_all'\n",
    "\n",
    "f_data = []\n",
    "user_info = []\n",
    "\n",
    "def key_count(cluster_y):\n",
    "    m = {}\n",
    "    for i in cluster_y:\n",
    "        if i not in m:\n",
    "            m.setdefault(i, 0)\n",
    "        m[i] += 1\n",
    "    res = sorted(m.items(), key=lambda x: x[1], reverse=True)\n",
    "    return res\n",
    "\n"
   ]
  },
  {
   "cell_type": "code",
   "execution_count": 2,
   "metadata": {},
   "outputs": [],
   "source": [
    "with open(dir_name + feat_file_mini, 'r') as f:\n",
    "    for line in f:\n",
    "        line = line.strip().split(\"\\t\")[:-1]\n",
    "        line.insert(1, line[0][:4])  # _year\n",
    "        line.insert(2, line[0][5:7])  # _month\n",
    "        line.insert(3, line[0][8:10])  # _date\n",
    "        line.insert(4, line[0][11:13])  # _hour\n",
    "        f_data.append(line[1:-1])  # [_year,_month,_date,_hour,latitude,longitude]\n",
    "        user_info.append([line[0], line[-2], line[-1]])\n",
    "scale = MinMaxScaler()\n",
    "scale.fit(f_data)\n",
    "f_data_transform = scale.transform(f_data)\n",
    "f_data_transform_train, f_data_transform_test = train_test_split(f_data_transform, test_size=0.2, random_state=0)\n",
    "\n"
   ]
  },
  {
   "cell_type": "code",
   "execution_count": 3,
   "metadata": {},
   "outputs": [
    {
     "name": "stdout",
     "output_type": "stream",
     "text": [
      "[(2, 10312), (3, 7462), (0, 5592), (7, 5361), (1, 4869), (5, 4707), (6, 3299), (4, 1441)]\n"
     ]
    }
   ],
   "source": [
    "k_means = KMeans()\n",
    "k_means.fit(f_data_transform_train)\n",
    "cluster_train_counts = key_count(k_means.labels_)\n",
    "print(cluster_train_counts)\n",
    "\n"
   ]
  },
  {
   "cell_type": "code",
   "execution_count": 4,
   "metadata": {},
   "outputs": [
    {
     "name": "stdout",
     "output_type": "stream",
     "text": [
      "[(2, 2594), (3, 1933), (0, 1404), (7, 1291), (5, 1220), (1, 1203), (6, 760), (4, 356)]\n"
     ]
    }
   ],
   "source": [
    "test_label = k_means.predict(f_data_transform_test)\n",
    "cluster_test_counts = key_count(test_label)\n",
    "print(cluster_test_counts)\n",
    "\n"
   ]
  },
  {
   "cell_type": "code",
   "execution_count": 5,
   "metadata": {},
   "outputs": [
    {
     "name": "stdout",
     "output_type": "stream",
     "text": [
      "(10761, 6)\n",
      "(10761, 1)\n"
     ]
    }
   ],
   "source": [
    "test_label = np.reshape(test_label, [len(test_label), -1])\n",
    "\n",
    "print(np.shape(f_data_transform_test))\n",
    "print(np.shape(test_label))\n",
    "\n"
   ]
  },
  {
   "cell_type": "code",
   "execution_count": 6,
   "metadata": {},
   "outputs": [
    {
     "data": {
      "text/plain": [
       "array([[ 11.059889 ,  18.563246 ],\n",
       "       [-14.237763 ,   0.6317925],\n",
       "       [-32.695988 , -25.000242 ],\n",
       "       ...,\n",
       "       [ 10.311785 , -27.06022  ],\n",
       "       [ 23.37826  ,  42.394035 ],\n",
       "       [-31.735786 ,  25.906385 ]], dtype=float32)"
      ]
     },
     "execution_count": 6,
     "metadata": {},
     "output_type": "execute_result"
    }
   ],
   "source": [
    "tsne = TSNE()\n",
    "\n",
    "tsne.fit_transform(test_label)  # 进行数据降维,降成两维\n"
   ]
  },
  {
   "cell_type": "code",
   "execution_count": 7,
   "metadata": {},
   "outputs": [],
   "source": [
    "cluster_test = np.concatenate((tsne.embedding_, test_label.reshape([len(test_label), 1])), axis=1)\n",
    "\n",
    "df=pd.DataFrame(cluster_test, columns=['f_0', 'f_1', 'label']) #转换数据格式\n",
    "\n",
    "\n"
   ]
  },
  {
   "cell_type": "code",
   "execution_count": 8,
   "metadata": {},
   "outputs": [
    {
     "data": {
      "text/html": [
       "<div>\n",
       "<style scoped>\n",
       "    .dataframe tbody tr th:only-of-type {\n",
       "        vertical-align: middle;\n",
       "    }\n",
       "\n",
       "    .dataframe tbody tr th {\n",
       "        vertical-align: top;\n",
       "    }\n",
       "\n",
       "    .dataframe thead th {\n",
       "        text-align: right;\n",
       "    }\n",
       "</style>\n",
       "<table border=\"1\" class=\"dataframe\">\n",
       "  <thead>\n",
       "    <tr style=\"text-align: right;\">\n",
       "      <th></th>\n",
       "      <th>f_0</th>\n",
       "      <th>f_1</th>\n",
       "      <th>label</th>\n",
       "    </tr>\n",
       "  </thead>\n",
       "  <tbody>\n",
       "    <tr>\n",
       "      <th>0</th>\n",
       "      <td>11.059889</td>\n",
       "      <td>18.563246</td>\n",
       "      <td>0.0</td>\n",
       "    </tr>\n",
       "    <tr>\n",
       "      <th>1</th>\n",
       "      <td>-14.237763</td>\n",
       "      <td>0.631792</td>\n",
       "      <td>3.0</td>\n",
       "    </tr>\n",
       "    <tr>\n",
       "      <th>2</th>\n",
       "      <td>-32.695988</td>\n",
       "      <td>-25.000242</td>\n",
       "      <td>5.0</td>\n",
       "    </tr>\n",
       "    <tr>\n",
       "      <th>3</th>\n",
       "      <td>-14.237763</td>\n",
       "      <td>0.631792</td>\n",
       "      <td>3.0</td>\n",
       "    </tr>\n",
       "    <tr>\n",
       "      <th>4</th>\n",
       "      <td>36.934395</td>\n",
       "      <td>-0.056054</td>\n",
       "      <td>7.0</td>\n",
       "    </tr>\n",
       "  </tbody>\n",
       "</table>\n",
       "</div>"
      ],
      "text/plain": [
       "         f_0        f_1  label\n",
       "0  11.059889  18.563246    0.0\n",
       "1 -14.237763   0.631792    3.0\n",
       "2 -32.695988 -25.000242    5.0\n",
       "3 -14.237763   0.631792    3.0\n",
       "4  36.934395  -0.056054    7.0"
      ]
     },
     "execution_count": 8,
     "metadata": {},
     "output_type": "execute_result"
    }
   ],
   "source": [
    "df.head()"
   ]
  },
  {
   "cell_type": "code",
   "execution_count": 30,
   "metadata": {},
   "outputs": [
    {
     "name": "stdout",
     "output_type": "stream",
     "text": [
      "label 0 has 1404 sample\n",
      "label 1 has 1203 sample\n",
      "label 2 has 2594 sample\n",
      "label 3 has 1933 sample\n",
      "label 4 has 356 sample\n",
      "label 5 has 1220 sample\n",
      "label 6 has 760 sample\n",
      "label 7 has 1291 sample\n"
     ]
    },
    {
     "data": {
      "text/plain": [
       "<matplotlib.legend.Legend at 0x1a20673f28>"
      ]
     },
     "execution_count": 30,
     "metadata": {},
     "output_type": "execute_result"
    },
    {
     "data": {
      "image/png": "[encoded data removed]",
      "text/plain": [
       "<Figure size 560x560 with 1 Axes>"
      ]
     },
     "metadata": {
      "needs_background": "light"
     },
     "output_type": "display_data"
    }
   ],
   "source": [
    "colr = ['#E15759', '#4E79A7', '#76B7B2', '#F28E2B','blue','#F45E2B','#F67E2B', 'r']\n",
    "\n",
    "plt.figure(figsize=(7, 7), dpi=80)\n",
    "axes = plt.subplot(111)\n",
    "types = []\n",
    "nums = []\n",
    "for i in range(8):\n",
    "    d=df[df['label']==i]\n",
    "    print(\"label %d has %d sample\" % (i, len(d['f_1'].values)))\n",
    "    type1 = axes.scatter(d['f_0'].values, d['f_1'].values, s=20, c=colr[i])\n",
    "    types.append(type1)\n",
    "    nums.append(len(d['f_1'].values))\n",
    "axes.legend(types, nums, loc=1)\n",
    "\n",
    "d=df[df['label']==2]\n"
   ]
  },
  {
   "cell_type": "code",
   "execution_count": null,
   "metadata": {},
   "outputs": [],
   "source": []
  }
 ],
 "metadata": {
  "kernelspec": {
   "display_name": "Python 3",
   "language": "python",
   "name": "python3"
  },
  "language_info": {
   "codemirror_mode": {
    "name": "ipython",
    "version": 3
   },
   "file_extension": ".py",
   "mimetype": "text/x-python",
   "name": "python",
   "nbconvert_exporter": "python",
   "pygments_lexer": "ipython3",
   "version": "3.7.3"
  }
 },
 "nbformat": 4,
 "nbformat_minor": 2
}
