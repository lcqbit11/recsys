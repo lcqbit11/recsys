{
 "cells": [
  {
   "cell_type": "code",
   "execution_count": 1,
   "metadata": {},
   "outputs": [],
   "source": [
    "#!/usr/bin/env python\n",
    "# -*- coding: utf-8 -*-\n",
    "\n",
    "\"\"\"\n",
    ":parameter\n",
    "--------------------\n",
    "data: n-array like\n",
    "[\n",
    "[1.0 2.3 2.1 0.2]\n",
    "[0.0 2.4 1.1 0.7]\n",
    "]\n",
    "每个元素都是有表示距离的属性的，对于没有距离属性的要抓化成具有距离属性的\n",
    "\"\"\"\n",
    "\n",
    "from sklearn.cluster import KMeans, MiniBatchKMeans\n",
    "from sklearn.preprocessing import StandardScaler, MinMaxScaler\n",
    "from sklearn.model_selection import train_test_split\n",
    "from sklearn.manifold import TSNE\n",
    "import pandas as pd\n",
    "import numpy as np\n",
    "import matplotlib.pyplot as plt \n",
    "\n",
    "dir_name = '/Users/changqingli/data/time_space_cluster/'\n",
    "feat_file_mini = 'fs_mini'\n",
    "feat_file_all = 'fs_all'\n",
    "feat_file_user_shanghai_all = 'fs_user_shanghai_all'\n",
    "\n",
    "\n",
    "def key_count(cluster_y):\n",
    "    m = {}\n",
    "    for i in cluster_y:\n",
    "        if i not in m:\n",
    "            m.setdefault(i, 0)\n",
    "        m[i] += 1\n",
    "    res = sorted(m.items(), key=lambda x: x[1], reverse=True)\n",
    "    return res\n",
    "\n"
   ]
  },
  {
   "cell_type": "code",
   "execution_count": 2,
   "metadata": {},
   "outputs": [],
   "source": [
    "f_data = []\n",
    "user_info = []\n",
    "with open(dir_name + feat_file_user_shanghai_all, 'r') as f:\n",
    "    for line in f:\n",
    "        line = line.strip().split(\"\\t\")\n",
    "        line.insert(2, line[1][:4])  # _year\n",
    "        line.insert(2, line[1][5:7])  # _month\n",
    "        line.insert(2, line[1][8:10])  # _date\n",
    "        line.insert(2, line[1][11:13])  # _hour\n",
    "        f_data.append(line[2:-2])  # [_year,_month,_date,_hour,latitude,longitude]\n",
    "        user_info.append([line[0], line[-2], line[-1]])\n",
    "\n"
   ]
  },
  {
   "cell_type": "code",
   "execution_count": 3,
   "metadata": {},
   "outputs": [
    {
     "data": {
      "text/plain": [
       "[['16', '21', '09', '2019', '31.083843', '121.253874'],\n",
       " ['19', '21', '09', '2019', '31.080615', '121.361396']]"
      ]
     },
     "execution_count": 3,
     "metadata": {},
     "output_type": "execute_result"
    }
   ],
   "source": [
    "f_data[:2]"
   ]
  },
  {
   "cell_type": "code",
   "execution_count": 4,
   "metadata": {},
   "outputs": [
    {
     "data": {
      "text/plain": [
       "[['1915658794', 'wtw0z4wk', '外卖事业部'], ['717499794', 'wtw2cdh9', '外卖事业部']]"
      ]
     },
     "execution_count": 4,
     "metadata": {},
     "output_type": "execute_result"
    }
   ],
   "source": [
    "user_info[:2]"
   ]
  },
  {
   "cell_type": "code",
   "execution_count": 5,
   "metadata": {},
   "outputs": [],
   "source": [
    "scale = MinMaxScaler()\n",
    "scale.fit(f_data)\n",
    "f_data_transform = scale.transform(f_data)\n",
    "\n"
   ]
  },
  {
   "cell_type": "code",
   "execution_count": 6,
   "metadata": {},
   "outputs": [
    {
     "name": "stdout",
     "output_type": "stream",
     "text": [
      "[(1, 28539), (4, 24787), (0, 19928), (6, 19674), (3, 17066), (7, 13462), (5, 9446), (2, 3780)]\n"
     ]
    }
   ],
   "source": [
    "k_means = KMeans()\n",
    "k_means.fit(f_data_transform)\n",
    "cluster_train_counts = key_count(k_means.labels_)\n",
    "print(cluster_train_counts)\n",
    "\n"
   ]
  },
  {
   "cell_type": "code",
   "execution_count": 7,
   "metadata": {},
   "outputs": [
    {
     "name": "stdout",
     "output_type": "stream",
     "text": [
      "(136682, 6)\n",
      "(136682, 1)\n"
     ]
    }
   ],
   "source": [
    "test_label = np.reshape(k_means.labels_, [len(k_means.labels_), -1])\n",
    "\n",
    "print(np.shape(f_data_transform))\n",
    "print(np.shape(test_label))\n",
    "\n"
   ]
  },
  {
   "cell_type": "code",
   "execution_count": 8,
   "metadata": {},
   "outputs": [
    {
     "data": {
      "text/plain": [
       "array([[ -8.9105215 ,   5.172948  ],\n",
       "       [  8.941043  ,  -0.16786742],\n",
       "       [  1.2221055 ,   1.710037  ],\n",
       "       ...,\n",
       "       [  6.6384277 ,  -7.2257633 ],\n",
       "       [ -2.2188284 , -11.1379795 ],\n",
       "       [  7.183694  ,  -7.8604083 ]], dtype=float32)"
      ]
     },
     "execution_count": 8,
     "metadata": {},
     "output_type": "execute_result"
    }
   ],
   "source": [
    "tsne = TSNE()\n",
    "tsne.fit_transform(test_label)  # 进行数据降维,降成两维\n"
   ]
  },
  {
   "cell_type": "code",
   "execution_count": 9,
   "metadata": {},
   "outputs": [],
   "source": [
    "cluster_test = np.concatenate((tsne.embedding_, test_label.reshape([len(test_label), 1])), axis=1)\n",
    "df=pd.DataFrame(cluster_test, columns=['f_0', 'f_1', 'label']) #转换数据格式\n",
    "\n"
   ]
  },
  {
   "cell_type": "code",
   "execution_count": 10,
   "metadata": {},
   "outputs": [
    {
     "data": {
      "text/html": [
       "<div>\n",
       "<style scoped>\n",
       "    .dataframe tbody tr th:only-of-type {\n",
       "        vertical-align: middle;\n",
       "    }\n",
       "\n",
       "    .dataframe tbody tr th {\n",
       "        vertical-align: top;\n",
       "    }\n",
       "\n",
       "    .dataframe thead th {\n",
       "        text-align: right;\n",
       "    }\n",
       "</style>\n",
       "<table border=\"1\" class=\"dataframe\">\n",
       "  <thead>\n",
       "    <tr style=\"text-align: right;\">\n",
       "      <th></th>\n",
       "      <th>f_0</th>\n",
       "      <th>f_1</th>\n",
       "      <th>label</th>\n",
       "    </tr>\n",
       "  </thead>\n",
       "  <tbody>\n",
       "    <tr>\n",
       "      <th>0</th>\n",
       "      <td>-8.910522</td>\n",
       "      <td>5.172948</td>\n",
       "      <td>0.0</td>\n",
       "    </tr>\n",
       "    <tr>\n",
       "      <th>1</th>\n",
       "      <td>8.941043</td>\n",
       "      <td>-0.167867</td>\n",
       "      <td>6.0</td>\n",
       "    </tr>\n",
       "    <tr>\n",
       "      <th>2</th>\n",
       "      <td>1.222106</td>\n",
       "      <td>1.710037</td>\n",
       "      <td>1.0</td>\n",
       "    </tr>\n",
       "    <tr>\n",
       "      <th>3</th>\n",
       "      <td>4.055113</td>\n",
       "      <td>1.213746</td>\n",
       "      <td>1.0</td>\n",
       "    </tr>\n",
       "    <tr>\n",
       "      <th>4</th>\n",
       "      <td>2.230825</td>\n",
       "      <td>10.801237</td>\n",
       "      <td>3.0</td>\n",
       "    </tr>\n",
       "  </tbody>\n",
       "</table>\n",
       "</div>"
      ],
      "text/plain": [
       "        f_0        f_1  label\n",
       "0 -8.910522   5.172948    0.0\n",
       "1  8.941043  -0.167867    6.0\n",
       "2  1.222106   1.710037    1.0\n",
       "3  4.055113   1.213746    1.0\n",
       "4  2.230825  10.801237    3.0"
      ]
     },
     "execution_count": 10,
     "metadata": {},
     "output_type": "execute_result"
    }
   ],
   "source": [
    "df.head()"
   ]
  },
  {
   "cell_type": "code",
   "execution_count": 11,
   "metadata": {},
   "outputs": [
    {
     "name": "stdout",
     "output_type": "stream",
     "text": [
      "label 0 has 19928 sample\n",
      "label 1 has 28539 sample\n",
      "label 2 has 3780 sample\n",
      "label 3 has 17066 sample\n",
      "label 4 has 24787 sample\n",
      "label 5 has 9446 sample\n",
      "label 6 has 19674 sample\n",
      "label 7 has 13462 sample\n"
     ]
    },
    {
     "data": {
      "image/png": "[encoded data removed]",
      "text/plain": [
       "<Figure size 560x560 with 1 Axes>"
      ]
     },
     "metadata": {
      "needs_background": "light"
     },
     "output_type": "display_data"
    }
   ],
   "source": [
    "colr = ['#E15759', '#4E79A7', '#76B7B2', '#F28E2B','blue','#F45E2B','#F67E2B', 'r']\n",
    "\n",
    "plt.figure(figsize=(7, 7), dpi=80)\n",
    "axes = plt.subplot(111)\n",
    "types = []\n",
    "nums = []\n",
    "for i in range(8):\n",
    "    d=df[df['label']==i]\n",
    "    print(\"label %d has %d sample\" % (i, len(d['f_1'].values)))\n",
    "    type1 = axes.scatter(d['f_0'].values, d['f_1'].values, s=20, c=colr[i])\n",
    "    types.append(type1)\n",
    "    nums.append(len(d['f_1'].values))\n",
    "axes.legend(types, nums, loc=2)\n",
    "\n",
    "d=df[df['label']==2]"
   ]
  },
  {
   "cell_type": "code",
   "execution_count": 12,
   "metadata": {},
   "outputs": [
    {
     "data": {
      "text/plain": [
       "array([[0.69565217, 0.        , 0.        , 0.        , 0.36157117,\n",
       "        0.89709561],\n",
       "       [0.82608696, 0.        , 0.        , 0.        , 0.36137896,\n",
       "        0.90229122],\n",
       "       [0.47826087, 0.        , 0.        , 0.        , 0.36137806,\n",
       "        0.90228769],\n",
       "       [0.43478261, 0.        , 0.        , 0.        , 0.36137532,\n",
       "        0.90228054],\n",
       "       [0.86956522, 0.        , 0.        , 0.        , 0.36137693,\n",
       "        0.90229069],\n",
       "       [0.39130435, 0.        , 0.        , 0.        , 0.36310187,\n",
       "        0.90374066],\n",
       "       [0.39130435, 0.        , 0.        , 0.        , 0.36310133,\n",
       "        0.90375463],\n",
       "       [0.2173913 , 0.        , 0.        , 0.        , 0.36977765,\n",
       "        0.90486152],\n",
       "       [0.2173913 , 0.        , 0.        , 0.        , 0.36977765,\n",
       "        0.90486152],\n",
       "       [0.86956522, 0.        , 0.        , 0.        , 0.36984119,\n",
       "        0.90706966],\n",
       "       [0.86956522, 0.        , 0.        , 0.        , 0.36984119,\n",
       "        0.90706966],\n",
       "       [0.86956522, 0.        , 0.        , 0.        , 0.36984119,\n",
       "        0.90706966],\n",
       "       [0.86956522, 0.        , 0.        , 0.        , 0.36984119,\n",
       "        0.90706966],\n",
       "       [0.86956522, 0.        , 0.        , 0.        , 0.36984119,\n",
       "        0.90706966],\n",
       "       [0.86956522, 0.        , 0.        , 0.        , 0.36984119,\n",
       "        0.90706966],\n",
       "       [0.43478261, 0.        , 0.        , 0.        , 0.37185879,\n",
       "        0.90666662],\n",
       "       [0.39130435, 0.        , 0.        , 0.        , 0.37185879,\n",
       "        0.90666662],\n",
       "       [0.34782609, 0.        , 0.        , 0.        , 0.37185879,\n",
       "        0.90666662],\n",
       "       [0.95652174, 0.        , 0.        , 0.        , 0.37185879,\n",
       "        0.90666662],\n",
       "       [1.        , 0.        , 0.        , 0.        , 0.36582378,\n",
       "        0.90879759]])"
      ]
     },
     "execution_count": 12,
     "metadata": {},
     "output_type": "execute_result"
    }
   ],
   "source": [
    "f_data_transform[:20, :]"
   ]
  },
  {
   "cell_type": "code",
   "execution_count": null,
   "metadata": {},
   "outputs": [],
   "source": []
  }
 ],
 "metadata": {
  "kernelspec": {
   "display_name": "Python 3",
   "language": "python",
   "name": "python3"
  },
  "language_info": {
   "codemirror_mode": {
    "name": "ipython",
    "version": 3
   },
   "file_extension": ".py",
   "mimetype": "text/x-python",
   "name": "python",
   "nbconvert_exporter": "python",
   "pygments_lexer": "ipython3",
   "version": "3.7.3"
  }
 },
 "nbformat": 4,
 "nbformat_minor": 2
}
