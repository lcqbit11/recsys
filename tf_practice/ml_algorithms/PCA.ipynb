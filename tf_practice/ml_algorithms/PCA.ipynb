{
 "cells": [
  {
   "cell_type": "code",
   "execution_count": 61,
   "metadata": {},
   "outputs": [
    {
     "data": {
      "text/plain": [
       "array([[38, 97, 79],\n",
       "       [56, 34, 51],\n",
       "       [60, 24, 91],\n",
       "       [33, 77, 24],\n",
       "       [25, 59, 66],\n",
       "       [40, 68, 93],\n",
       "       [36, 85, 83],\n",
       "       [99, 10, 23],\n",
       "       [16, 62, 92],\n",
       "       [ 2, 51,  6]])"
      ]
     },
     "execution_count": 61,
     "metadata": {},
     "output_type": "execute_result"
    }
   ],
   "source": [
    "import numpy as np\n",
    "import math\n",
    "\n",
    "a = np.random.randint(0, 100, [10, 3])\n",
    "a"
   ]
  },
  {
   "cell_type": "code",
   "execution_count": 62,
   "metadata": {},
   "outputs": [
    {
     "data": {
      "text/plain": [
       "array([ -2.5,  15.5,  19.5,  -7.5, -15.5,  -0.5,  -4.5,  58.5, -24.5,\n",
       "       -38.5])"
      ]
     },
     "execution_count": 62,
     "metadata": {},
     "output_type": "execute_result"
    }
   ],
   "source": [
    "a0 = a[:, 0]\n",
    "a1 = a[:, 1]\n",
    "a2 = a[:, 2]\n",
    "np.resize(np.mean(a0), np.shape(a)[0])\n",
    "a0-np.resize(np.mean(a0), np.shape(a)[0])\n"
   ]
  },
  {
   "cell_type": "code",
   "execution_count": 63,
   "metadata": {},
   "outputs": [
    {
     "data": {
      "text/plain": [
       "array([ 40.3, -22.7, -32.7,  20.3,   2.3,  11.3,  28.3, -46.7,   5.3,\n",
       "        -5.7])"
      ]
     },
     "execution_count": 63,
     "metadata": {},
     "output_type": "execute_result"
    }
   ],
   "source": [
    "np.resize(np.mean(a1), np.shape(a)[0])\n",
    "a1-np.resize(np.mean(a1), np.shape(a)[0])"
   ]
  },
  {
   "cell_type": "code",
   "execution_count": 64,
   "metadata": {},
   "outputs": [
    {
     "data": {
      "text/plain": [
       "array([ -100.75,  -351.85,  -637.65,  -152.25,   -35.65,    -5.65,\n",
       "        -127.35, -2731.95,  -129.85,   219.45])"
      ]
     },
     "execution_count": 64,
     "metadata": {},
     "output_type": "execute_result"
    }
   ],
   "source": [
    "(a0 - np.resize(np.mean(a0), np.shape(a)[0])) * (a1 - np.resize(np.mean(a1), np.shape(a)[0]))"
   ]
  },
  {
   "cell_type": "code",
   "execution_count": 73,
   "metadata": {},
   "outputs": [
    {
     "data": {
      "text/plain": [
       "-450.3888888888889"
      ]
     },
     "execution_count": 73,
     "metadata": {},
     "output_type": "execute_result"
    }
   ],
   "source": [
    "cov01 = np.sum((a0 - np.resize(np.mean(a0), np.shape(a)[0])) * (a1 - np.resize(np.mean(a1), np.shape(a)[0])))/(np.shape(a)[0]-1)\n",
    "cov01"
   ]
  },
  {
   "cell_type": "code",
   "execution_count": 74,
   "metadata": {},
   "outputs": [
    {
     "data": {
      "text/plain": [
       "-43.888888888888886"
      ]
     },
     "execution_count": 74,
     "metadata": {},
     "output_type": "execute_result"
    }
   ],
   "source": [
    "cov02 = np.sum((a0 - np.resize(np.mean(a0), np.shape(a)[0])) * (a2 - np.resize(np.mean(a2), np.shape(a)[0])))/(np.shape(a)[0]-1)\n",
    "cov02"
   ]
  },
  {
   "cell_type": "code",
   "execution_count": 75,
   "metadata": {},
   "outputs": [
    {
     "data": {
      "text/plain": [
       "274.2666666666667"
      ]
     },
     "execution_count": 75,
     "metadata": {},
     "output_type": "execute_result"
    }
   ],
   "source": [
    "cov21 = np.sum((a2 - np.resize(np.mean(a2), np.shape(a)[0])) * (a1 - np.resize(np.mean(a1), np.shape(a)[0])))/(np.shape(a)[0]-1)\n",
    "cov21"
   ]
  },
  {
   "cell_type": "code",
   "execution_count": 76,
   "metadata": {},
   "outputs": [
    {
     "data": {
      "text/plain": [
       "716.5"
      ]
     },
     "execution_count": 76,
     "metadata": {},
     "output_type": "execute_result"
    }
   ],
   "source": [
    "cov00 = np.sum((a0 - np.resize(np.mean(a0), np.shape(a)[0])) * (a0 - np.resize(np.mean(a0), np.shape(a)[0])))/(np.shape(a)[0]-1)\n",
    "cov00"
   ]
  },
  {
   "cell_type": "code",
   "execution_count": 77,
   "metadata": {},
   "outputs": [
    {
     "data": {
      "text/plain": [
       "755.1222222222223"
      ]
     },
     "execution_count": 77,
     "metadata": {},
     "output_type": "execute_result"
    }
   ],
   "source": [
    "cov11 = np.sum((a1 - np.resize(np.mean(a1), np.shape(a)[0])) * (a1 - np.resize(np.mean(a1), np.shape(a)[0])))/(np.shape(a)[0]-1)\n",
    "cov11"
   ]
  },
  {
   "cell_type": "code",
   "execution_count": 78,
   "metadata": {},
   "outputs": [
    {
     "data": {
      "text/plain": [
       "1072.8444444444444"
      ]
     },
     "execution_count": 78,
     "metadata": {},
     "output_type": "execute_result"
    }
   ],
   "source": [
    "cov22 = np.sum((a2 - np.resize(np.mean(a2), np.shape(a)[0])) * (a2 - np.resize(np.mean(a2), np.shape(a)[0])))/(np.shape(a)[0]-1)\n",
    "cov22"
   ]
  },
  {
   "cell_type": "code",
   "execution_count": 79,
   "metadata": {},
   "outputs": [
    {
     "data": {
      "text/plain": [
       "array([[ 716.5       , -450.38888889,  -43.88888889],\n",
       "       [-450.38888889,  755.12222222,  274.26666667],\n",
       "       [ -43.88888889,  274.26666667, 1072.84444444]])"
      ]
     },
     "execution_count": 79,
     "metadata": {},
     "output_type": "execute_result"
    }
   ],
   "source": [
    "np.cov(a, rowvar=False)"
   ]
  },
  {
   "cell_type": "code",
   "execution_count": 84,
   "metadata": {},
   "outputs": [
    {
     "data": {
      "text/plain": [
       "array([[ -2.5,  40.3,  18.2],\n",
       "       [ 15.5, -22.7,  -9.8],\n",
       "       [ 19.5, -32.7,  30.2],\n",
       "       [ -7.5,  20.3, -36.8],\n",
       "       [-15.5,   2.3,   5.2],\n",
       "       [ -0.5,  11.3,  32.2],\n",
       "       [ -4.5,  28.3,  22.2],\n",
       "       [ 58.5, -46.7, -37.8],\n",
       "       [-24.5,   5.3,  31.2],\n",
       "       [-38.5,  -5.7, -54.8]])"
      ]
     },
     "execution_count": 84,
     "metadata": {},
     "output_type": "execute_result"
    }
   ],
   "source": [
    "a_trans = a - np.resize(np.mean(a, axis=0), [10, 3])\n",
    "a_trans"
   ]
  },
  {
   "cell_type": "code",
   "execution_count": 89,
   "metadata": {},
   "outputs": [
    {
     "data": {
      "text/plain": [
       "array([[ 716.5       , -450.38888889,  -43.88888889],\n",
       "       [-450.38888889,  755.12222222,  274.26666667],\n",
       "       [ -43.88888889,  274.26666667, 1072.84444444]])"
      ]
     },
     "execution_count": 89,
     "metadata": {},
     "output_type": "execute_result"
    }
   ],
   "source": [
    "cov = np.matmul(np.transpose(a_trans), a_trans) / (np.shape(a)[0] - 1)\n",
    "cov"
   ]
  },
  {
   "cell_type": "code",
   "execution_count": null,
   "metadata": {},
   "outputs": [],
   "source": [
    "cov."
   ]
  }
 ],
 "metadata": {
  "kernelspec": {
   "display_name": "Python 3",
   "language": "python",
   "name": "python3"
  },
  "language_info": {
   "codemirror_mode": {
    "name": "ipython",
    "version": 3
   },
   "file_extension": ".py",
   "mimetype": "text/x-python",
   "name": "python",
   "nbconvert_exporter": "python",
   "pygments_lexer": "ipython3",
   "version": "3.7.1"
  }
 },
 "nbformat": 4,
 "nbformat_minor": 2
}
