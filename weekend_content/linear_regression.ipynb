{
 "cells": [
  {
   "cell_type": "code",
   "execution_count": 1,
   "metadata": {},
   "outputs": [],
   "source": [
    "#!/usr/bin/env python\n",
    "# -*- coding: utf-8 -*-\n",
    "\n",
    "import xgboost as xgb\n",
    "import numpy as np\n",
    "import pandas as pd\n",
    "import tensorflow as tf\n",
    "\"\"\"\n",
    "'inc_ability': 考虑到您的能力和工作状况，您目前的收入是否合理\n",
    "'view': 根据您的一般印象您对一些重要事情所持的观点和看法与社会大众一致的时候有多少 \n",
    "'status_3_before': 与三年前相比，您的社会经济地位发生了什么变化\n",
    "'status_peer': 与同龄人相比，您本人的社会经济地位怎样\n",
    "\"\"\""
   ]
  },
  {
   "cell_type": "code",
   "execution_count": 2,
   "metadata": {},
   "outputs": [],
   "source": [
    "data_dir = '/Users/changqingli/pycharm_projects/algorithms/weekend_content/'\n",
    "train_data_file = 'data/happiness_train_abbr.csv'\n",
    "test_data_dile = 'data/happiness_test_abbr.csv'"
   ]
  },
  {
   "cell_type": "code",
   "execution_count": 3,
   "metadata": {},
   "outputs": [
    {
     "data": {
      "text/html": [
       "<div>\n",
       "<style scoped>\n",
       "    .dataframe tbody tr th:only-of-type {\n",
       "        vertical-align: middle;\n",
       "    }\n",
       "\n",
       "    .dataframe tbody tr th {\n",
       "        vertical-align: top;\n",
       "    }\n",
       "\n",
       "    .dataframe thead th {\n",
       "        text-align: right;\n",
       "    }\n",
       "</style>\n",
       "<table border=\"1\" class=\"dataframe\">\n",
       "  <thead>\n",
       "    <tr style=\"text-align: right;\">\n",
       "      <th></th>\n",
       "      <th>id</th>\n",
       "      <th>happiness</th>\n",
       "      <th>survey_type</th>\n",
       "      <th>province</th>\n",
       "      <th>city</th>\n",
       "      <th>county</th>\n",
       "      <th>survey_time</th>\n",
       "      <th>gender</th>\n",
       "      <th>birth</th>\n",
       "      <th>nationality</th>\n",
       "      <th>...</th>\n",
       "      <th>family_income</th>\n",
       "      <th>family_m</th>\n",
       "      <th>family_status</th>\n",
       "      <th>house</th>\n",
       "      <th>car</th>\n",
       "      <th>marital</th>\n",
       "      <th>status_peer</th>\n",
       "      <th>status_3_before</th>\n",
       "      <th>view</th>\n",
       "      <th>inc_ability</th>\n",
       "    </tr>\n",
       "  </thead>\n",
       "  <tbody>\n",
       "    <tr>\n",
       "      <th>0</th>\n",
       "      <td>1</td>\n",
       "      <td>4</td>\n",
       "      <td>1</td>\n",
       "      <td>12</td>\n",
       "      <td>32</td>\n",
       "      <td>59</td>\n",
       "      <td>2015/8/4 14:18</td>\n",
       "      <td>1</td>\n",
       "      <td>1959</td>\n",
       "      <td>1</td>\n",
       "      <td>...</td>\n",
       "      <td>60000.0</td>\n",
       "      <td>2</td>\n",
       "      <td>2</td>\n",
       "      <td>1</td>\n",
       "      <td>2</td>\n",
       "      <td>3</td>\n",
       "      <td>3</td>\n",
       "      <td>2</td>\n",
       "      <td>4</td>\n",
       "      <td>3</td>\n",
       "    </tr>\n",
       "    <tr>\n",
       "      <th>1</th>\n",
       "      <td>2</td>\n",
       "      <td>4</td>\n",
       "      <td>2</td>\n",
       "      <td>18</td>\n",
       "      <td>52</td>\n",
       "      <td>85</td>\n",
       "      <td>2015/7/21 15:04</td>\n",
       "      <td>1</td>\n",
       "      <td>1992</td>\n",
       "      <td>1</td>\n",
       "      <td>...</td>\n",
       "      <td>40000.0</td>\n",
       "      <td>3</td>\n",
       "      <td>4</td>\n",
       "      <td>1</td>\n",
       "      <td>2</td>\n",
       "      <td>1</td>\n",
       "      <td>1</td>\n",
       "      <td>1</td>\n",
       "      <td>4</td>\n",
       "      <td>2</td>\n",
       "    </tr>\n",
       "    <tr>\n",
       "      <th>2</th>\n",
       "      <td>3</td>\n",
       "      <td>4</td>\n",
       "      <td>2</td>\n",
       "      <td>29</td>\n",
       "      <td>83</td>\n",
       "      <td>126</td>\n",
       "      <td>2015/7/21 13:24</td>\n",
       "      <td>2</td>\n",
       "      <td>1967</td>\n",
       "      <td>1</td>\n",
       "      <td>...</td>\n",
       "      <td>8000.0</td>\n",
       "      <td>3</td>\n",
       "      <td>3</td>\n",
       "      <td>1</td>\n",
       "      <td>2</td>\n",
       "      <td>3</td>\n",
       "      <td>2</td>\n",
       "      <td>1</td>\n",
       "      <td>4</td>\n",
       "      <td>2</td>\n",
       "    </tr>\n",
       "    <tr>\n",
       "      <th>3</th>\n",
       "      <td>4</td>\n",
       "      <td>5</td>\n",
       "      <td>2</td>\n",
       "      <td>10</td>\n",
       "      <td>28</td>\n",
       "      <td>51</td>\n",
       "      <td>2015/7/25 17:33</td>\n",
       "      <td>2</td>\n",
       "      <td>1943</td>\n",
       "      <td>1</td>\n",
       "      <td>...</td>\n",
       "      <td>12000.0</td>\n",
       "      <td>3</td>\n",
       "      <td>3</td>\n",
       "      <td>1</td>\n",
       "      <td>1</td>\n",
       "      <td>7</td>\n",
       "      <td>2</td>\n",
       "      <td>1</td>\n",
       "      <td>3</td>\n",
       "      <td>2</td>\n",
       "    </tr>\n",
       "    <tr>\n",
       "      <th>4</th>\n",
       "      <td>5</td>\n",
       "      <td>4</td>\n",
       "      <td>1</td>\n",
       "      <td>7</td>\n",
       "      <td>18</td>\n",
       "      <td>36</td>\n",
       "      <td>2015/8/10 9:50</td>\n",
       "      <td>2</td>\n",
       "      <td>1994</td>\n",
       "      <td>1</td>\n",
       "      <td>...</td>\n",
       "      <td>-2.0</td>\n",
       "      <td>4</td>\n",
       "      <td>3</td>\n",
       "      <td>1</td>\n",
       "      <td>1</td>\n",
       "      <td>1</td>\n",
       "      <td>3</td>\n",
       "      <td>2</td>\n",
       "      <td>3</td>\n",
       "      <td>-8</td>\n",
       "    </tr>\n",
       "  </tbody>\n",
       "</table>\n",
       "<p>5 rows × 42 columns</p>\n",
       "</div>"
      ],
      "text/plain": [
       "   id  happiness  survey_type  province  city  county      survey_time  \\\n",
       "0   1          4            1        12    32      59   2015/8/4 14:18   \n",
       "1   2          4            2        18    52      85  2015/7/21 15:04   \n",
       "2   3          4            2        29    83     126  2015/7/21 13:24   \n",
       "3   4          5            2        10    28      51  2015/7/25 17:33   \n",
       "4   5          4            1         7    18      36   2015/8/10 9:50   \n",
       "\n",
       "   gender  birth  nationality  ...  family_income  family_m  family_status  \\\n",
       "0       1   1959            1  ...        60000.0         2              2   \n",
       "1       1   1992            1  ...        40000.0         3              4   \n",
       "2       2   1967            1  ...         8000.0         3              3   \n",
       "3       2   1943            1  ...        12000.0         3              3   \n",
       "4       2   1994            1  ...           -2.0         4              3   \n",
       "\n",
       "   house  car  marital  status_peer  status_3_before  view  inc_ability  \n",
       "0      1    2        3            3                2     4            3  \n",
       "1      1    2        1            1                1     4            2  \n",
       "2      1    2        3            2                1     4            2  \n",
       "3      1    1        7            2                1     3            2  \n",
       "4      1    1        1            3                2     3           -8  \n",
       "\n",
       "[5 rows x 42 columns]"
      ]
     },
     "execution_count": 3,
     "metadata": {},
     "output_type": "execute_result"
    }
   ],
   "source": [
    "df_train = pd.read_csv(data_dir+train_data_file)\n",
    "df_test = pd.read_csv(data_dir+test_data_dile)\n",
    "df_train.head()"
   ]
  },
  {
   "cell_type": "code",
   "execution_count": 4,
   "metadata": {},
   "outputs": [],
   "source": [
    "\n",
    "\n",
    "df_train = df_train.drop('survey_time', 1).drop('id', 1)\n",
    "df_train = df_train[df_train['happiness'] != -8]\n",
    "df_train = df_train.fillna(0)\n",
    "\n",
    "df_test = df_test.drop('survey_time', 1)\n",
    "df_test = df_test.fillna(0)\n",
    "\n"
   ]
  },
  {
   "cell_type": "code",
   "execution_count": 5,
   "metadata": {},
   "outputs": [],
   "source": [
    "df_train_train = df_train.sample(frac=0.8, random_state=0, axis=0)\n",
    "df_train_validation = df_train[~df_train.index.isin(df_train_train.index)]\n",
    "\n"
   ]
  },
  {
   "cell_type": "code",
   "execution_count": 6,
   "metadata": {},
   "outputs": [
    {
     "name": "stderr",
     "output_type": "stream",
     "text": [
      "/Users/changqingli/anaconda3/lib/python3.7/site-packages/ipykernel_launcher.py:1: FutureWarning: Method .as_matrix will be removed in a future version. Use .values instead.\n",
      "  \"\"\"Entry point for launching an IPython kernel.\n",
      "/Users/changqingli/anaconda3/lib/python3.7/site-packages/ipykernel_launcher.py:2: FutureWarning: Method .as_matrix will be removed in a future version. Use .values instead.\n",
      "  \n",
      "/Users/changqingli/anaconda3/lib/python3.7/site-packages/ipykernel_launcher.py:3: FutureWarning: Method .as_matrix will be removed in a future version. Use .values instead.\n",
      "  This is separate from the ipykernel package so we can avoid doing imports until\n"
     ]
    },
    {
     "data": {
      "text/plain": [
       "array([[ 3.,  1.,  1., ...,  2.,  3., -8.],\n",
       "       [ 5.,  2., 22., ...,  1.,  4.,  2.],\n",
       "       [ 5.,  1., 21., ...,  1.,  4.,  2.],\n",
       "       ...,\n",
       "       [ 4.,  1., 17., ...,  2.,  3.,  2.],\n",
       "       [ 3.,  2., 29., ...,  2.,  4.,  3.],\n",
       "       [ 5.,  1.,  1., ...,  2.,  4.,  2.]])"
      ]
     },
     "execution_count": 6,
     "metadata": {},
     "output_type": "execute_result"
    }
   ],
   "source": [
    "tr_data = df_train_train.as_matrix()\n",
    "va_data = df_train_validation.as_matrix()\n",
    "te_data = df_test.as_matrix()\n",
    "tr_data\n"
   ]
  },
  {
   "cell_type": "code",
   "execution_count": 7,
   "metadata": {},
   "outputs": [],
   "source": [
    "tr_x_data = tr_data[:, 1:]\n",
    "tr_y_data = tr_data[:, 0]\n",
    "\n",
    "va_x_data = va_data[:, 1:]\n",
    "va_y_data = va_data[:, 0]"
   ]
  },
  {
   "cell_type": "code",
   "execution_count": 8,
   "metadata": {},
   "outputs": [
    {
     "data": {
      "text/plain": [
       "1598"
      ]
     },
     "execution_count": 8,
     "metadata": {},
     "output_type": "execute_result"
    }
   ],
   "source": [
    "len(va_x_data)"
   ]
  },
  {
   "cell_type": "code",
   "execution_count": 9,
   "metadata": {},
   "outputs": [],
   "source": [
    "from sklearn import linear_model\n",
    "mod = linear_model.LinearRegression()"
   ]
  },
  {
   "cell_type": "code",
   "execution_count": 10,
   "metadata": {},
   "outputs": [
    {
     "data": {
      "text/plain": [
       "LinearRegression(copy_X=True, fit_intercept=True, n_jobs=None, normalize=False)"
      ]
     },
     "execution_count": 10,
     "metadata": {},
     "output_type": "execute_result"
    }
   ],
   "source": [
    "mod.fit(tr_x_data, tr_y_data)"
   ]
  },
  {
   "cell_type": "code",
   "execution_count": 11,
   "metadata": {},
   "outputs": [],
   "source": [
    "va_y_pred = np.round(mod.predict(va_x_data))"
   ]
  },
  {
   "cell_type": "code",
   "execution_count": 12,
   "metadata": {},
   "outputs": [
    {
     "name": "stdout",
     "output_type": "stream",
     "text": [
      "[4. 4. 5. ... 3. 5. 4.]\n",
      "[4. 4. 3. ... 4. 4. 4.]\n",
      "[ 0.  0. -2. ...  1. -1.  0.]\n",
      "0.5901126408010012\n"
     ]
    }
   ],
   "source": [
    "print(va_y_data)\n",
    "print(va_y_pred)\n",
    "print(va_y_pred - va_y_data)\n",
    "print(np.mean((va_y_pred - va_y_data)*(va_y_pred - va_y_data)))"
   ]
  },
  {
   "cell_type": "code",
   "execution_count": 13,
   "metadata": {},
   "outputs": [
    {
     "data": {
      "text/plain": [
       "array([[ 1.,  2.,  2., ...,  1.,  4.,  2.],\n",
       "       [ 1., 22., 66., ...,  3.,  4.,  2.],\n",
       "       [ 2.,  9., 22., ...,  1.,  3.,  4.],\n",
       "       ...,\n",
       "       [ 2., 29., 84., ...,  1.,  4.,  2.],\n",
       "       [ 1., 11., 31., ...,  1.,  4., -8.],\n",
       "       [ 1., 13., 37., ...,  2.,  4.,  2.]])"
      ]
     },
     "execution_count": 13,
     "metadata": {},
     "output_type": "execute_result"
    }
   ],
   "source": [
    "pred_data = te_data[:, 1:]\n",
    "pred_data"
   ]
  },
  {
   "cell_type": "code",
   "execution_count": 14,
   "metadata": {},
   "outputs": [],
   "source": [
    "pred_res = np.round(mod.predict(pred_data))"
   ]
  },
  {
   "cell_type": "code",
   "execution_count": 15,
   "metadata": {},
   "outputs": [
    {
     "data": {
      "text/plain": [
       "array([4., 3., 4., ..., 4., 4., 5.])"
      ]
     },
     "execution_count": 15,
     "metadata": {},
     "output_type": "execute_result"
    }
   ],
   "source": [
    "pred_res"
   ]
  },
  {
   "cell_type": "code",
   "execution_count": 16,
   "metadata": {},
   "outputs": [],
   "source": [
    "import csv\n",
    "result = 'submission_908.csv'\n",
    "with open(data_dir+result, 'w') as f:\n",
    "    writer = csv.writer(f, delimiter=',')\n",
    "    writer.writerow(['id', 'happiness'])\n",
    "    for i in range(len(te_data)):\n",
    "        writer.writerow([int(te_data[i][0]), int(pred_res[i])])"
   ]
  },
  {
   "cell_type": "code",
   "execution_count": 32,
   "metadata": {},
   "outputs": [
    {
     "data": {
      "text/plain": [
       "39"
      ]
     },
     "execution_count": 32,
     "metadata": {},
     "output_type": "execute_result"
    }
   ],
   "source": [
    "len(mod.coef_)"
   ]
  },
  {
   "cell_type": "code",
   "execution_count": 38,
   "metadata": {},
   "outputs": [
    {
     "data": {
      "text/plain": [
       "[('inc_ability', 0.1478203254716955),\n",
       " ('view', 0.1354216854120923),\n",
       " ('status_3_before', 0.11309520348465896),\n",
       " ('status_peer', 0.10897358939256352),\n",
       " ('marital', 0.05896973794058932),\n",
       " ('car', 0.05764759360934971),\n",
       " ('house', 0.04985383730834656),\n",
       " ('family_status', 0.047524919959526346),\n",
       " ('family_m', 0.045190326914817544),\n",
       " ('family_income', 0.03887617524370268),\n",
       " ('work_manage', 0.02828830546184053),\n",
       " ('work_type', 0.014266987114460963),\n",
       " ('work_yr', 0.012533116360491458),\n",
       " ('work_status', 0.011805566314329358),\n",
       " ('work_exper', 0.01089302384506575),\n",
       " ('class', 0.009085872945616974),\n",
       " ('equity', 0.008918152252317343),\n",
       " ('learn', 0.005594841096430921),\n",
       " ('relax', 0.004828914055028089),\n",
       " ('socialize', 0.004344556716593074),\n",
       " ('hukou', 0.0038397647481808656),\n",
       " ('depression', 0.0029490341002829682),\n",
       " ('health_problem', 2.276171106051765e-05),\n",
       " ('health', 1.655793586960237e-08),\n",
       " ('weight_jin', 5.313719810329362e-09),\n",
       " ('height_cm', -7.64840580379878e-05),\n",
       " ('floor_area', -0.0012882889131198402),\n",
       " ('political', -0.0028171711511584692),\n",
       " ('income', -0.0042569828261441655),\n",
       " ('edu', -0.0044510233618094445),\n",
       " ('religion_freq', -0.006140851130832163),\n",
       " ('religion', -0.008530486475742562),\n",
       " ('nationality', -0.009047324000982678),\n",
       " ('birth', -0.012927621094124594),\n",
       " ('gender', -0.01736769364453409),\n",
       " ('county', -0.02522080577764106),\n",
       " ('city', -0.03345946863132202),\n",
       " ('province', -0.044305842099859626),\n",
       " ('survey_type', -0.049350589884229946)]"
      ]
     },
     "execution_count": 38,
     "metadata": {},
     "output_type": "execute_result"
    }
   ],
   "source": [
    "col_name = list(df_train_train.columns)[1:]\n",
    "m = {}\n",
    "for i in range(len(col_name)):\n",
    "    m.setdefault(col_name[i], 0)\n",
    "    m[col_name[i]] = mod.coef_[i]\n",
    "    \n",
    "sorted(m.items(), key=lambda x: x[1], reverse=True)\n",
    "    "
   ]
  },
  {
   "cell_type": "code",
   "execution_count": null,
   "metadata": {},
   "outputs": [],
   "source": []
  }
 ],
 "metadata": {
  "kernelspec": {
   "display_name": "Python 3",
   "language": "python",
   "name": "python3"
  },
  "language_info": {
   "codemirror_mode": {
    "name": "ipython",
    "version": 3
   },
   "file_extension": ".py",
   "mimetype": "text/x-python",
   "name": "python",
   "nbconvert_exporter": "python",
   "pygments_lexer": "ipython3",
   "version": "3.7.3"
  }
 },
 "nbformat": 4,
 "nbformat_minor": 2
}
