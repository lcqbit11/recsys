{
 "cells": [
  {
   "cell_type": "code",
   "execution_count": 1,
   "metadata": {},
   "outputs": [],
   "source": [
    "#!/usr/bin/env python\n",
    "# -*- coding: utf-8 -*-\n",
    "\"\"\"\n",
    "0.将 预测结果保持小数形式，而不是转换成整数形式  结果从0.5以上优化到0.5以下 0.47381812389478345\n",
    "1.将 survey_time数据提取出月份、日期、小时三个特征 0.47143198583365375\n",
    "2.将 family_income，income离散成5段的离散值 0.4730428161760329\n",
    "3.将 birth 转换成年龄值age 0.47143198583365375\n",
    "4.将 family_income，income离散成5段的离散值，并且birth 转换成年龄值age，都加上，0.47241532744595904\n",
    "6.将 age 离散化成7段年龄段  0.47619062169156706\n",
    "7.将 survey_time数据提取出一周的第几天、是否周末 两个特征 0.47097871771026456\n",
    "8.将 family_income、income中小于0的数字转换为0 0.4708401593321734\n",
    "9.使用全量特征训练 0.466104881012437\n",
    "10.将 family_income，income提取出来家庭收入占个人收入的比例特征，0.46458776964941884\n",
    "\"\"\"\n",
    "\n",
    "import xgboost as xgb\n",
    "import numpy as np\n",
    "import pandas as pd\n",
    "import tensorflow as tf\n",
    "from datetime import datetime"
   ]
  },
  {
   "cell_type": "code",
   "execution_count": 2,
   "metadata": {},
   "outputs": [],
   "source": [
    "data_dir = '/Users/changqingli/pycharm_projects/algorithms/weekend_content/'\n",
    "train_data_file = 'data/happiness_train_complete.csv'\n",
    "test_data_file = 'data/happiness_test_complete.csv'\n"
   ]
  },
  {
   "cell_type": "code",
   "execution_count": 3,
   "metadata": {},
   "outputs": [
    {
     "data": {
      "text/html": [
       "<div>\n",
       "<style scoped>\n",
       "    .dataframe tbody tr th:only-of-type {\n",
       "        vertical-align: middle;\n",
       "    }\n",
       "\n",
       "    .dataframe tbody tr th {\n",
       "        vertical-align: top;\n",
       "    }\n",
       "\n",
       "    .dataframe thead th {\n",
       "        text-align: right;\n",
       "    }\n",
       "</style>\n",
       "<table border=\"1\" class=\"dataframe\">\n",
       "  <thead>\n",
       "    <tr style=\"text-align: right;\">\n",
       "      <th></th>\n",
       "      <th>id</th>\n",
       "      <th>happiness</th>\n",
       "      <th>survey_type</th>\n",
       "      <th>province</th>\n",
       "      <th>city</th>\n",
       "      <th>county</th>\n",
       "      <th>survey_time</th>\n",
       "      <th>gender</th>\n",
       "      <th>birth</th>\n",
       "      <th>nationality</th>\n",
       "      <th>...</th>\n",
       "      <th>neighbor_familiarity</th>\n",
       "      <th>public_service_1</th>\n",
       "      <th>public_service_2</th>\n",
       "      <th>public_service_3</th>\n",
       "      <th>public_service_4</th>\n",
       "      <th>public_service_5</th>\n",
       "      <th>public_service_6</th>\n",
       "      <th>public_service_7</th>\n",
       "      <th>public_service_8</th>\n",
       "      <th>public_service_9</th>\n",
       "    </tr>\n",
       "  </thead>\n",
       "  <tbody>\n",
       "    <tr>\n",
       "      <th>0</th>\n",
       "      <td>1</td>\n",
       "      <td>4</td>\n",
       "      <td>1</td>\n",
       "      <td>12</td>\n",
       "      <td>32</td>\n",
       "      <td>59</td>\n",
       "      <td>2015/8/4 14:18</td>\n",
       "      <td>1</td>\n",
       "      <td>1959</td>\n",
       "      <td>1</td>\n",
       "      <td>...</td>\n",
       "      <td>4</td>\n",
       "      <td>50</td>\n",
       "      <td>60</td>\n",
       "      <td>50</td>\n",
       "      <td>50</td>\n",
       "      <td>30.0</td>\n",
       "      <td>30</td>\n",
       "      <td>50</td>\n",
       "      <td>50</td>\n",
       "      <td>50</td>\n",
       "    </tr>\n",
       "    <tr>\n",
       "      <th>1</th>\n",
       "      <td>2</td>\n",
       "      <td>4</td>\n",
       "      <td>2</td>\n",
       "      <td>18</td>\n",
       "      <td>52</td>\n",
       "      <td>85</td>\n",
       "      <td>2015/7/21 15:04</td>\n",
       "      <td>1</td>\n",
       "      <td>1992</td>\n",
       "      <td>1</td>\n",
       "      <td>...</td>\n",
       "      <td>3</td>\n",
       "      <td>90</td>\n",
       "      <td>70</td>\n",
       "      <td>70</td>\n",
       "      <td>80</td>\n",
       "      <td>85.0</td>\n",
       "      <td>70</td>\n",
       "      <td>90</td>\n",
       "      <td>60</td>\n",
       "      <td>60</td>\n",
       "    </tr>\n",
       "    <tr>\n",
       "      <th>2</th>\n",
       "      <td>3</td>\n",
       "      <td>4</td>\n",
       "      <td>2</td>\n",
       "      <td>29</td>\n",
       "      <td>83</td>\n",
       "      <td>126</td>\n",
       "      <td>2015/7/21 13:24</td>\n",
       "      <td>2</td>\n",
       "      <td>1967</td>\n",
       "      <td>1</td>\n",
       "      <td>...</td>\n",
       "      <td>4</td>\n",
       "      <td>90</td>\n",
       "      <td>80</td>\n",
       "      <td>75</td>\n",
       "      <td>79</td>\n",
       "      <td>80.0</td>\n",
       "      <td>90</td>\n",
       "      <td>90</td>\n",
       "      <td>90</td>\n",
       "      <td>75</td>\n",
       "    </tr>\n",
       "    <tr>\n",
       "      <th>3</th>\n",
       "      <td>4</td>\n",
       "      <td>5</td>\n",
       "      <td>2</td>\n",
       "      <td>10</td>\n",
       "      <td>28</td>\n",
       "      <td>51</td>\n",
       "      <td>2015/7/25 17:33</td>\n",
       "      <td>2</td>\n",
       "      <td>1943</td>\n",
       "      <td>1</td>\n",
       "      <td>...</td>\n",
       "      <td>3</td>\n",
       "      <td>100</td>\n",
       "      <td>90</td>\n",
       "      <td>70</td>\n",
       "      <td>80</td>\n",
       "      <td>80.0</td>\n",
       "      <td>90</td>\n",
       "      <td>90</td>\n",
       "      <td>80</td>\n",
       "      <td>80</td>\n",
       "    </tr>\n",
       "    <tr>\n",
       "      <th>4</th>\n",
       "      <td>5</td>\n",
       "      <td>4</td>\n",
       "      <td>1</td>\n",
       "      <td>7</td>\n",
       "      <td>18</td>\n",
       "      <td>36</td>\n",
       "      <td>2015/8/10 9:50</td>\n",
       "      <td>2</td>\n",
       "      <td>1994</td>\n",
       "      <td>1</td>\n",
       "      <td>...</td>\n",
       "      <td>2</td>\n",
       "      <td>50</td>\n",
       "      <td>50</td>\n",
       "      <td>50</td>\n",
       "      <td>50</td>\n",
       "      <td>50.0</td>\n",
       "      <td>50</td>\n",
       "      <td>50</td>\n",
       "      <td>50</td>\n",
       "      <td>50</td>\n",
       "    </tr>\n",
       "  </tbody>\n",
       "</table>\n",
       "<p>5 rows × 140 columns</p>\n",
       "</div>"
      ],
      "text/plain": [
       "   id  happiness  survey_type  province  city  county      survey_time  \\\n",
       "0   1          4            1        12    32      59   2015/8/4 14:18   \n",
       "1   2          4            2        18    52      85  2015/7/21 15:04   \n",
       "2   3          4            2        29    83     126  2015/7/21 13:24   \n",
       "3   4          5            2        10    28      51  2015/7/25 17:33   \n",
       "4   5          4            1         7    18      36   2015/8/10 9:50   \n",
       "\n",
       "   gender  birth  nationality  ...  neighbor_familiarity  public_service_1  \\\n",
       "0       1   1959            1  ...                     4                50   \n",
       "1       1   1992            1  ...                     3                90   \n",
       "2       2   1967            1  ...                     4                90   \n",
       "3       2   1943            1  ...                     3               100   \n",
       "4       2   1994            1  ...                     2                50   \n",
       "\n",
       "   public_service_2 public_service_3  public_service_4  public_service_5  \\\n",
       "0                60               50                50              30.0   \n",
       "1                70               70                80              85.0   \n",
       "2                80               75                79              80.0   \n",
       "3                90               70                80              80.0   \n",
       "4                50               50                50              50.0   \n",
       "\n",
       "   public_service_6  public_service_7  public_service_8  public_service_9  \n",
       "0                30                50                50                50  \n",
       "1                70                90                60                60  \n",
       "2                90                90                90                75  \n",
       "3                90                90                80                80  \n",
       "4                50                50                50                50  \n",
       "\n",
       "[5 rows x 140 columns]"
      ]
     },
     "execution_count": 3,
     "metadata": {},
     "output_type": "execute_result"
    }
   ],
   "source": [
    "df_train = pd.read_csv(data_dir+train_data_file, encoding='gb2312')\n",
    "df_test = pd.read_csv(data_dir+test_data_file, encoding='gb2312')\n",
    "df_train.head()"
   ]
  },
  {
   "cell_type": "code",
   "execution_count": 4,
   "metadata": {},
   "outputs": [],
   "source": [
    "df_train = df_train.drop('id', 1)\n",
    "df_train = df_train[df_train['happiness'] != -8]\n",
    "df_train = df_train[pd.to_datetime(df_train.survey_time).dt.month != 2]\n"
   ]
  },
  {
   "cell_type": "code",
   "execution_count": 5,
   "metadata": {},
   "outputs": [
    {
     "data": {
      "text/html": [
       "<div>\n",
       "<style scoped>\n",
       "    .dataframe tbody tr th:only-of-type {\n",
       "        vertical-align: middle;\n",
       "    }\n",
       "\n",
       "    .dataframe tbody tr th {\n",
       "        vertical-align: top;\n",
       "    }\n",
       "\n",
       "    .dataframe thead th {\n",
       "        text-align: right;\n",
       "    }\n",
       "</style>\n",
       "<table border=\"1\" class=\"dataframe\">\n",
       "  <thead>\n",
       "    <tr style=\"text-align: right;\">\n",
       "      <th></th>\n",
       "      <th>happiness</th>\n",
       "      <th>survey_type</th>\n",
       "      <th>province</th>\n",
       "      <th>city</th>\n",
       "      <th>county</th>\n",
       "      <th>gender</th>\n",
       "      <th>nationality</th>\n",
       "      <th>religion</th>\n",
       "      <th>religion_freq</th>\n",
       "      <th>edu</th>\n",
       "      <th>...</th>\n",
       "      <th>public_service_9</th>\n",
       "      <th>month</th>\n",
       "      <th>day</th>\n",
       "      <th>hour</th>\n",
       "      <th>dayofweek</th>\n",
       "      <th>is_weekend</th>\n",
       "      <th>income_rate</th>\n",
       "      <th>family_income_stage</th>\n",
       "      <th>income_stage</th>\n",
       "      <th>age</th>\n",
       "    </tr>\n",
       "  </thead>\n",
       "  <tbody>\n",
       "    <tr>\n",
       "      <th>0</th>\n",
       "      <td>4</td>\n",
       "      <td>1</td>\n",
       "      <td>12</td>\n",
       "      <td>32</td>\n",
       "      <td>59</td>\n",
       "      <td>1</td>\n",
       "      <td>1</td>\n",
       "      <td>1</td>\n",
       "      <td>1</td>\n",
       "      <td>11</td>\n",
       "      <td>...</td>\n",
       "      <td>50</td>\n",
       "      <td>8</td>\n",
       "      <td>4</td>\n",
       "      <td>14</td>\n",
       "      <td>2</td>\n",
       "      <td>0</td>\n",
       "      <td>3.000000</td>\n",
       "      <td>3</td>\n",
       "      <td>1</td>\n",
       "      <td>60</td>\n",
       "    </tr>\n",
       "    <tr>\n",
       "      <th>1</th>\n",
       "      <td>4</td>\n",
       "      <td>2</td>\n",
       "      <td>18</td>\n",
       "      <td>52</td>\n",
       "      <td>85</td>\n",
       "      <td>1</td>\n",
       "      <td>1</td>\n",
       "      <td>1</td>\n",
       "      <td>1</td>\n",
       "      <td>12</td>\n",
       "      <td>...</td>\n",
       "      <td>60</td>\n",
       "      <td>7</td>\n",
       "      <td>21</td>\n",
       "      <td>15</td>\n",
       "      <td>2</td>\n",
       "      <td>0</td>\n",
       "      <td>2.000000</td>\n",
       "      <td>2</td>\n",
       "      <td>1</td>\n",
       "      <td>27</td>\n",
       "    </tr>\n",
       "    <tr>\n",
       "      <th>2</th>\n",
       "      <td>4</td>\n",
       "      <td>2</td>\n",
       "      <td>29</td>\n",
       "      <td>83</td>\n",
       "      <td>126</td>\n",
       "      <td>2</td>\n",
       "      <td>1</td>\n",
       "      <td>0</td>\n",
       "      <td>3</td>\n",
       "      <td>4</td>\n",
       "      <td>...</td>\n",
       "      <td>75</td>\n",
       "      <td>7</td>\n",
       "      <td>21</td>\n",
       "      <td>13</td>\n",
       "      <td>2</td>\n",
       "      <td>0</td>\n",
       "      <td>4.000000</td>\n",
       "      <td>0</td>\n",
       "      <td>0</td>\n",
       "      <td>52</td>\n",
       "    </tr>\n",
       "    <tr>\n",
       "      <th>3</th>\n",
       "      <td>5</td>\n",
       "      <td>2</td>\n",
       "      <td>10</td>\n",
       "      <td>28</td>\n",
       "      <td>51</td>\n",
       "      <td>2</td>\n",
       "      <td>1</td>\n",
       "      <td>1</td>\n",
       "      <td>1</td>\n",
       "      <td>3</td>\n",
       "      <td>...</td>\n",
       "      <td>80</td>\n",
       "      <td>7</td>\n",
       "      <td>25</td>\n",
       "      <td>17</td>\n",
       "      <td>6</td>\n",
       "      <td>1</td>\n",
       "      <td>1.869159</td>\n",
       "      <td>1</td>\n",
       "      <td>1</td>\n",
       "      <td>76</td>\n",
       "    </tr>\n",
       "    <tr>\n",
       "      <th>4</th>\n",
       "      <td>4</td>\n",
       "      <td>1</td>\n",
       "      <td>7</td>\n",
       "      <td>18</td>\n",
       "      <td>36</td>\n",
       "      <td>2</td>\n",
       "      <td>1</td>\n",
       "      <td>1</td>\n",
       "      <td>1</td>\n",
       "      <td>12</td>\n",
       "      <td>...</td>\n",
       "      <td>50</td>\n",
       "      <td>8</td>\n",
       "      <td>10</td>\n",
       "      <td>9</td>\n",
       "      <td>1</td>\n",
       "      <td>0</td>\n",
       "      <td>2.000000</td>\n",
       "      <td>NaN</td>\n",
       "      <td>NaN</td>\n",
       "      <td>25</td>\n",
       "    </tr>\n",
       "  </tbody>\n",
       "</table>\n",
       "<p>5 rows × 146 columns</p>\n",
       "</div>"
      ],
      "text/plain": [
       "   happiness  survey_type  province  city  county  gender  nationality  \\\n",
       "0          4            1        12    32      59       1            1   \n",
       "1          4            2        18    52      85       1            1   \n",
       "2          4            2        29    83     126       2            1   \n",
       "3          5            2        10    28      51       2            1   \n",
       "4          4            1         7    18      36       2            1   \n",
       "\n",
       "   religion  religion_freq  edu  ... public_service_9  month  day  hour  \\\n",
       "0         1              1   11  ...               50      8    4    14   \n",
       "1         1              1   12  ...               60      7   21    15   \n",
       "2         0              3    4  ...               75      7   21    13   \n",
       "3         1              1    3  ...               80      7   25    17   \n",
       "4         1              1   12  ...               50      8   10     9   \n",
       "\n",
       "   dayofweek  is_weekend  income_rate  family_income_stage  income_stage  age  \n",
       "0          2           0     3.000000                    3             1   60  \n",
       "1          2           0     2.000000                    2             1   27  \n",
       "2          2           0     4.000000                    0             0   52  \n",
       "3          6           1     1.869159                    1             1   76  \n",
       "4          1           0     2.000000                  NaN           NaN   25  \n",
       "\n",
       "[5 rows x 146 columns]"
      ]
     },
     "execution_count": 5,
     "metadata": {},
     "output_type": "execute_result"
    }
   ],
   "source": [
    "# survey_time数据提取出月份、日期、小时三个特征\n",
    "df_train['month'] = pd.to_datetime(df_train.survey_time).dt.month\n",
    "df_train['day'] = pd.to_datetime(df_train.survey_time).dt.day\n",
    "df_train['hour'] = pd.to_datetime(df_train.survey_time).dt.hour\n",
    "df_train['dayofweek'] = pd.to_datetime(df_train.survey_time).dt.dayofweek+1\n",
    "df_train['is_weekend'] = (pd.to_datetime(df_train.survey_time).dt.dayofweek+1).apply(lambda x: 1 if x in (6, 7) else 0)\n",
    "df_test['month'] = pd.to_datetime(df_test.survey_time).dt.month\n",
    "df_test['day'] = pd.to_datetime(df_test.survey_time).dt.day\n",
    "df_test['hour'] = pd.to_datetime(df_test.survey_time).dt.hour\n",
    "df_test['dayofweek'] = pd.to_datetime(df_test.survey_time).dt.dayofweek+1\n",
    "df_test['is_weekend'] = (pd.to_datetime(df_test.survey_time).dt.dayofweek+1).apply(lambda x: 1 if x in (6, 7) else 0)\n",
    "# 去除 survey_time数据\n",
    "df_train = df_train.drop('survey_time', 1)\n",
    "df_test = df_test.drop('survey_time', 1)\n",
    "# 家庭收入是个人收入的比例\n",
    "df_train['income_rate'] = df_train.apply(lambda row: row['family_income']/row['income'] if row['family_income']*row['income']>0 else 0, 1)\n",
    "df_test['income_rate'] = df_test.apply(lambda row: row['family_income']/row['income'] if row['family_income']*row['income']>0 else 0, 1)\n",
    "# 将family_income、income小于0的值转换为0值\n",
    "df_train['family_income'] = df_train['family_income'].apply(lambda x: x if x>0 else 0)\n",
    "df_train['income'] = df_train['income'].apply(lambda x: x if x>0 else 0)\n",
    "df_test['family_income'] = df_test['family_income'].apply(lambda x: x if x>0 else 0)\n",
    "df_test['income'] = df_test['income'].apply(lambda x: x if x>0 else 0)\n",
    "# family_income，income离散成5段的离散值\n",
    "family_income_quantile = df_train.family_income.quantile([0, 0.2, 0.4, 0.6, 0.8, 1]).values\n",
    "df_train['family_income_stage'] = pd.cut(df_train.family_income, family_income_quantile, labels=[0, 1, 2, 3, 4])\n",
    "income_quantile = df_train.income.quantile([0, 0.33, 0.66, 1]).values\n",
    "df_train['income_stage'] = pd.cut(df_train.income, income_quantile, labels=[0, 1, 2])\n",
    "family_income_quantile = df_test.family_income.quantile([0, 0.2, 0.4, 0.6, 0.8, 1]).values\n",
    "df_test['family_income_stage'] = pd.cut(df_test.family_income, family_income_quantile, labels=[0, 1, 2, 3, 4])\n",
    "income_quantile = df_test.income.quantile([0, 0.33, 0.66, 1]).values\n",
    "df_test['income_stage'] = pd.cut(df_test.income, income_quantile, labels=[0, 1, 2])\n",
    "# birth 转换成年龄值\n",
    "df_train['age']  = (2019 - df_train.birth)\n",
    "df_train = df_train.drop('birth', 1)\n",
    "# df_train['age'] = pd.cut(df_train.age, [0, 20, 30, 40, 50, 60, 70, 100], labels=[0, 1, 2, 3, 4, 5, 6])\n",
    "df_test['age']  = (2019 - df_test.birth)\n",
    "df_test = df_test.drop('birth', 1)\n",
    "# df_test['age'] = pd.cut(df_test.age, [0, 20, 30, 40, 50, 60, 70, 100], labels=[0, 1, 2, 3, 4, 5, 6])\n",
    "\n",
    "\n",
    "df_train.head()\n"
   ]
  },
  {
   "cell_type": "code",
   "execution_count": 6,
   "metadata": {},
   "outputs": [],
   "source": [
    "df_train = df_train.drop('property_other', 1).drop('edu_other', 1).drop('invest_other', 1)\n",
    "df_test = df_test.drop('property_other', 1).drop('edu_other', 1).drop('invest_other', 1)"
   ]
  },
  {
   "cell_type": "code",
   "execution_count": 7,
   "metadata": {},
   "outputs": [],
   "source": [
    "# df_train.loc[1, :]\n",
    "# df_train['property_other'].value_counts()\n",
    "\n",
    "\n",
    "\n"
   ]
  },
  {
   "cell_type": "code",
   "execution_count": 8,
   "metadata": {},
   "outputs": [],
   "source": [
    "# df_train.floor_area.value_counts()"
   ]
  },
  {
   "cell_type": "code",
   "execution_count": 9,
   "metadata": {},
   "outputs": [
    {
     "data": {
      "text/plain": [
       "2968"
      ]
     },
     "execution_count": 9,
     "metadata": {},
     "output_type": "execute_result"
    }
   ],
   "source": [
    "len(df_train)\n",
    "len(df_test)"
   ]
  },
  {
   "cell_type": "code",
   "execution_count": 10,
   "metadata": {},
   "outputs": [],
   "source": [
    "df_train = df_train.fillna(0)\n",
    "df_test = df_test.fillna(0)\n",
    "df_train_train = df_train.sample(frac=0.8, random_state=0, axis=0)\n",
    "df_train_validation = df_train[~df_train.index.isin(df_train_train.index)]\n"
   ]
  },
  {
   "cell_type": "code",
   "execution_count": 11,
   "metadata": {},
   "outputs": [
    {
     "data": {
      "text/plain": [
       "1597"
      ]
     },
     "execution_count": 11,
     "metadata": {},
     "output_type": "execute_result"
    }
   ],
   "source": [
    "len(df_train_validation)"
   ]
  },
  {
   "cell_type": "code",
   "execution_count": 12,
   "metadata": {},
   "outputs": [
    {
     "name": "stderr",
     "output_type": "stream",
     "text": [
      "/Users/changqingli/anaconda3/lib/python3.7/site-packages/ipykernel_launcher.py:1: FutureWarning: Method .as_matrix will be removed in a future version. Use .values instead.\n",
      "  \"\"\"Entry point for launching an IPython kernel.\n",
      "/Users/changqingli/anaconda3/lib/python3.7/site-packages/ipykernel_launcher.py:2: FutureWarning: Method .as_matrix will be removed in a future version. Use .values instead.\n",
      "  \n",
      "/Users/changqingli/anaconda3/lib/python3.7/site-packages/ipykernel_launcher.py:3: FutureWarning: Method .as_matrix will be removed in a future version. Use .values instead.\n",
      "  This is separate from the ipykernel package so we can avoid doing imports until\n"
     ]
    },
    {
     "data": {
      "text/plain": [
       "array([[3, 1, 1, ..., 1, 0, 23],\n",
       "       [4, 1, 12, ..., 2, 2, 24],\n",
       "       [5, 1, 21, ..., 2, 2, 39],\n",
       "       ...,\n",
       "       [3, 2, 29, ..., 0, 0, 65],\n",
       "       [5, 1, 1, ..., 0, 0, 47],\n",
       "       [4, 2, 18, ..., 4, 0, 30]], dtype=object)"
      ]
     },
     "execution_count": 12,
     "metadata": {},
     "output_type": "execute_result"
    }
   ],
   "source": [
    "tr_data = df_train_train.as_matrix()\n",
    "va_data = df_train_validation.as_matrix()\n",
    "te_data = df_test.as_matrix()\n",
    "tr_data"
   ]
  },
  {
   "cell_type": "code",
   "execution_count": 13,
   "metadata": {},
   "outputs": [],
   "source": [
    "tr_x_data = tr_data[:, 1:]\n",
    "tr_y_data = tr_data[:, 0]\n",
    "\n",
    "va_x_data = va_data[:, 1:]\n",
    "va_y_data = va_data[:, 0]"
   ]
  },
  {
   "cell_type": "code",
   "execution_count": 14,
   "metadata": {},
   "outputs": [
    {
     "data": {
      "text/plain": [
       "142"
      ]
     },
     "execution_count": 14,
     "metadata": {},
     "output_type": "execute_result"
    }
   ],
   "source": [
    "len(tr_x_data[0])\n",
    "# df_train.edu_other.value_counts()"
   ]
  },
  {
   "cell_type": "code",
   "execution_count": 15,
   "metadata": {},
   "outputs": [],
   "source": [
    "# (tr_x_data.index('统筹'))\n",
    "# for i in range(len(tr_x_data)):\n",
    "#     for j in range(len(tr_x_data[i])):\n",
    "#         if tr_x_data[i][j] == '统筹':\n",
    "#             print(i, j)\n",
    "\n",
    "# list(df_train.columns)[84]\n"
   ]
  },
  {
   "cell_type": "code",
   "execution_count": 16,
   "metadata": {},
   "outputs": [],
   "source": [
    "mod = xgb.XGBRegressor(max_depth=6,\n",
    "                       learning_rate=0.1,\n",
    "                       n_estimators=100,\n",
    "                       objective='reg:squarederror',\n",
    "                       booster='gbtree',\n",
    "                       gamma=5,\n",
    "                       reg_lambda=10,\n",
    "                       min_child_weight=1)"
   ]
  },
  {
   "cell_type": "code",
   "execution_count": 17,
   "metadata": {},
   "outputs": [
    {
     "data": {
      "text/plain": [
       "XGBRegressor(base_score=0.5, booster='gbtree', colsample_bylevel=1,\n",
       "             colsample_bynode=1, colsample_bytree=1, gamma=5,\n",
       "             importance_type='gain', learning_rate=0.1, max_delta_step=0,\n",
       "             max_depth=6, min_child_weight=1, missing=None, n_estimators=100,\n",
       "             n_jobs=1, nthread=None, objective='reg:squarederror',\n",
       "             random_state=0, reg_alpha=0, reg_lambda=10, scale_pos_weight=1,\n",
       "             seed=None, silent=None, subsample=1, verbosity=1)"
      ]
     },
     "execution_count": 17,
     "metadata": {},
     "output_type": "execute_result"
    }
   ],
   "source": [
    "mod.fit(tr_x_data, tr_y_data)"
   ]
  },
  {
   "cell_type": "code",
   "execution_count": 18,
   "metadata": {},
   "outputs": [
    {
     "data": {
      "text/plain": [
       "0.46458776964941884"
      ]
     },
     "execution_count": 18,
     "metadata": {},
     "output_type": "execute_result"
    }
   ],
   "source": [
    "va_pred_data = mod.predict(va_x_data)\n",
    "np.mean((va_pred_data - va_y_data)*(va_pred_data - va_y_data))"
   ]
  },
  {
   "cell_type": "code",
   "execution_count": 19,
   "metadata": {},
   "outputs": [],
   "source": [
    "pred_data = te_data[:, 1:]\n",
    "pred_res = mod.predict(pred_data)\n",
    "\n",
    "import csv\n",
    "result = 'submission_908_xgb_tiaocan_4.csv'\n",
    "with open(data_dir+result, 'w') as f:\n",
    "    writer = csv.writer(f, delimiter=',')\n",
    "    writer.writerow(['id', 'happiness'])\n",
    "    for i in range(len(te_data)):\n",
    "        writer.writerow([int(te_data[i][0]), pred_res[i]])"
   ]
  },
  {
   "cell_type": "code",
   "execution_count": null,
   "metadata": {},
   "outputs": [],
   "source": []
  }
 ],
 "metadata": {
  "kernelspec": {
   "display_name": "Python 3",
   "language": "python",
   "name": "python3"
  },
  "language_info": {
   "codemirror_mode": {
    "name": "ipython",
    "version": 3
   },
   "file_extension": ".py",
   "mimetype": "text/x-python",
   "name": "python",
   "nbconvert_exporter": "python",
   "pygments_lexer": "ipython3",
   "version": "3.7.3"
  }
 },
 "nbformat": 4,
 "nbformat_minor": 2
}
