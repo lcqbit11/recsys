{
 "cells": [
  {
   "cell_type": "code",
   "execution_count": 1,
   "metadata": {
    "pycharm": {
     "is_executing": false
    }
   },
   "outputs": [],
   "source": [
    "#!/usr/bin/env python\n",
    "# -*- coding: utf-8 -*-\n",
    "\"\"\"\n",
    "1.将survey_time数据提取出月份、日期、小时三个特征\n",
    "2.调参：\n",
    "    1.n_estimators=100, 0.5222291797119599\n",
    "    2.reg_lambda=10， 0.5203506574827802\n",
    "    3.learning_rate=0.1， 0.5172197871008141\n",
    "\n",
    "\"\"\"\n",
    "\n",
    "import xgboost as xgb\n",
    "import numpy as np\n",
    "import pandas as pd\n",
    "import tensorflow as tf"
   ]
  },
  {
   "cell_type": "code",
   "execution_count": 2,
   "metadata": {
    "pycharm": {
     "is_executing": false
    }
   },
   "outputs": [],
   "source": [
    "data_dir = '/Users/changqingli/pycharm_projects/algorithms/weekend_content/'\n",
    "train_data_file = 'data/happiness_train_abbr.csv'\n",
    "test_data_dile = 'data/happiness_test_abbr.csv'"
   ]
  },
  {
   "cell_type": "code",
   "execution_count": 3,
   "metadata": {
    "pycharm": {
     "is_executing": false
    }
   },
   "outputs": [
    {
     "data": {
      "text/plain": "   id  happiness  survey_type  province  city  county      survey_time  \\\n0   1          4            1        12    32      59   2015/8/4 14:18   \n1   2          4            2        18    52      85  2015/7/21 15:04   \n2   3          4            2        29    83     126  2015/7/21 13:24   \n3   4          5            2        10    28      51  2015/7/25 17:33   \n4   5          4            1         7    18      36   2015/8/10 9:50   \n\n   gender  birth  nationality  ...  family_income  family_m  family_status  \\\n0       1   1959            1  ...        60000.0         2              2   \n1       1   1992            1  ...        40000.0         3              4   \n2       2   1967            1  ...         8000.0         3              3   \n3       2   1943            1  ...        12000.0         3              3   \n4       2   1994            1  ...           -2.0         4              3   \n\n   house  car  marital  status_peer  status_3_before  view  inc_ability  \n0      1    2        3            3                2     4            3  \n1      1    2        1            1                1     4            2  \n2      1    2        3            2                1     4            2  \n3      1    1        7            2                1     3            2  \n4      1    1        1            3                2     3           -8  \n\n[5 rows x 42 columns]",
      "text/html": "<div>\n<style scoped>\n    .dataframe tbody tr th:only-of-type {\n        vertical-align: middle;\n    }\n\n    .dataframe tbody tr th {\n        vertical-align: top;\n    }\n\n    .dataframe thead th {\n        text-align: right;\n    }\n</style>\n<table border=\"1\" class=\"dataframe\">\n  <thead>\n    <tr style=\"text-align: right;\">\n      <th></th>\n      <th>id</th>\n      <th>happiness</th>\n      <th>survey_type</th>\n      <th>province</th>\n      <th>city</th>\n      <th>county</th>\n      <th>survey_time</th>\n      <th>gender</th>\n      <th>birth</th>\n      <th>nationality</th>\n      <th>...</th>\n      <th>family_income</th>\n      <th>family_m</th>\n      <th>family_status</th>\n      <th>house</th>\n      <th>car</th>\n      <th>marital</th>\n      <th>status_peer</th>\n      <th>status_3_before</th>\n      <th>view</th>\n      <th>inc_ability</th>\n    </tr>\n  </thead>\n  <tbody>\n    <tr>\n      <th>0</th>\n      <td>1</td>\n      <td>4</td>\n      <td>1</td>\n      <td>12</td>\n      <td>32</td>\n      <td>59</td>\n      <td>2015/8/4 14:18</td>\n      <td>1</td>\n      <td>1959</td>\n      <td>1</td>\n      <td>...</td>\n      <td>60000.0</td>\n      <td>2</td>\n      <td>2</td>\n      <td>1</td>\n      <td>2</td>\n      <td>3</td>\n      <td>3</td>\n      <td>2</td>\n      <td>4</td>\n      <td>3</td>\n    </tr>\n    <tr>\n      <th>1</th>\n      <td>2</td>\n      <td>4</td>\n      <td>2</td>\n      <td>18</td>\n      <td>52</td>\n      <td>85</td>\n      <td>2015/7/21 15:04</td>\n      <td>1</td>\n      <td>1992</td>\n      <td>1</td>\n      <td>...</td>\n      <td>40000.0</td>\n      <td>3</td>\n      <td>4</td>\n      <td>1</td>\n      <td>2</td>\n      <td>1</td>\n      <td>1</td>\n      <td>1</td>\n      <td>4</td>\n      <td>2</td>\n    </tr>\n    <tr>\n      <th>2</th>\n      <td>3</td>\n      <td>4</td>\n      <td>2</td>\n      <td>29</td>\n      <td>83</td>\n      <td>126</td>\n      <td>2015/7/21 13:24</td>\n      <td>2</td>\n      <td>1967</td>\n      <td>1</td>\n      <td>...</td>\n      <td>8000.0</td>\n      <td>3</td>\n      <td>3</td>\n      <td>1</td>\n      <td>2</td>\n      <td>3</td>\n      <td>2</td>\n      <td>1</td>\n      <td>4</td>\n      <td>2</td>\n    </tr>\n    <tr>\n      <th>3</th>\n      <td>4</td>\n      <td>5</td>\n      <td>2</td>\n      <td>10</td>\n      <td>28</td>\n      <td>51</td>\n      <td>2015/7/25 17:33</td>\n      <td>2</td>\n      <td>1943</td>\n      <td>1</td>\n      <td>...</td>\n      <td>12000.0</td>\n      <td>3</td>\n      <td>3</td>\n      <td>1</td>\n      <td>1</td>\n      <td>7</td>\n      <td>2</td>\n      <td>1</td>\n      <td>3</td>\n      <td>2</td>\n    </tr>\n    <tr>\n      <th>4</th>\n      <td>5</td>\n      <td>4</td>\n      <td>1</td>\n      <td>7</td>\n      <td>18</td>\n      <td>36</td>\n      <td>2015/8/10 9:50</td>\n      <td>2</td>\n      <td>1994</td>\n      <td>1</td>\n      <td>...</td>\n      <td>-2.0</td>\n      <td>4</td>\n      <td>3</td>\n      <td>1</td>\n      <td>1</td>\n      <td>1</td>\n      <td>3</td>\n      <td>2</td>\n      <td>3</td>\n      <td>-8</td>\n    </tr>\n  </tbody>\n</table>\n<p>5 rows × 42 columns</p>\n</div>"
     },
     "metadata": {},
     "output_type": "execute_result",
     "execution_count": 3
    }
   ],
   "source": [
    "df_train = pd.read_csv(data_dir+train_data_file)\n",
    "df_test = pd.read_csv(data_dir+test_data_dile)\n",
    "df_train.head()"
   ]
  },
  {
   "cell_type": "code",
   "execution_count": 4,
   "metadata": {
    "pycharm": {
     "is_executing": false
    }
   },
   "outputs": [],
   "source": [
    "df_train = df_train.drop('id', 1)\n",
    "df_train = df_train[df_train['happiness'] != -8]\n",
    "df_train = df_train[pd.to_datetime(df_train.survey_time).dt.month != 2]\n"
   ]
  },
  {
   "cell_type": "code",
   "execution_count": 5,
   "metadata": {
    "pycharm": {
     "is_executing": false
    }
   },
   "outputs": [
    {
     "data": {
      "text/plain": "   happiness  survey_type  province  city  county      survey_time  gender  \\\n0          4            1        12    32      59   2015/8/4 14:18       1   \n1          4            2        18    52      85  2015/7/21 15:04       1   \n2          4            2        29    83     126  2015/7/21 13:24       2   \n3          5            2        10    28      51  2015/7/25 17:33       2   \n4          4            1         7    18      36   2015/8/10 9:50       2   \n\n   birth  nationality  religion  ...  family_m  family_status  house  car  \\\n0   1959            1         1  ...         2              2      1    2   \n1   1992            1         1  ...         3              4      1    2   \n2   1967            1         0  ...         3              3      1    2   \n3   1943            1         1  ...         3              3      1    1   \n4   1994            1         1  ...         4              3      1    1   \n\n   marital  status_peer  status_3_before  view  inc_ability  month  \n0        3            3                2     4            3      8  \n1        1            1                1     4            2      7  \n2        3            2                1     4            2      7  \n3        7            2                1     3            2      7  \n4        1            3                2     3           -8      8  \n\n[5 rows x 42 columns]",
      "text/html": "<div>\n<style scoped>\n    .dataframe tbody tr th:only-of-type {\n        vertical-align: middle;\n    }\n\n    .dataframe tbody tr th {\n        vertical-align: top;\n    }\n\n    .dataframe thead th {\n        text-align: right;\n    }\n</style>\n<table border=\"1\" class=\"dataframe\">\n  <thead>\n    <tr style=\"text-align: right;\">\n      <th></th>\n      <th>happiness</th>\n      <th>survey_type</th>\n      <th>province</th>\n      <th>city</th>\n      <th>county</th>\n      <th>survey_time</th>\n      <th>gender</th>\n      <th>birth</th>\n      <th>nationality</th>\n      <th>religion</th>\n      <th>...</th>\n      <th>family_m</th>\n      <th>family_status</th>\n      <th>house</th>\n      <th>car</th>\n      <th>marital</th>\n      <th>status_peer</th>\n      <th>status_3_before</th>\n      <th>view</th>\n      <th>inc_ability</th>\n      <th>month</th>\n    </tr>\n  </thead>\n  <tbody>\n    <tr>\n      <th>0</th>\n      <td>4</td>\n      <td>1</td>\n      <td>12</td>\n      <td>32</td>\n      <td>59</td>\n      <td>2015/8/4 14:18</td>\n      <td>1</td>\n      <td>1959</td>\n      <td>1</td>\n      <td>1</td>\n      <td>...</td>\n      <td>2</td>\n      <td>2</td>\n      <td>1</td>\n      <td>2</td>\n      <td>3</td>\n      <td>3</td>\n      <td>2</td>\n      <td>4</td>\n      <td>3</td>\n      <td>8</td>\n    </tr>\n    <tr>\n      <th>1</th>\n      <td>4</td>\n      <td>2</td>\n      <td>18</td>\n      <td>52</td>\n      <td>85</td>\n      <td>2015/7/21 15:04</td>\n      <td>1</td>\n      <td>1992</td>\n      <td>1</td>\n      <td>1</td>\n      <td>...</td>\n      <td>3</td>\n      <td>4</td>\n      <td>1</td>\n      <td>2</td>\n      <td>1</td>\n      <td>1</td>\n      <td>1</td>\n      <td>4</td>\n      <td>2</td>\n      <td>7</td>\n    </tr>\n    <tr>\n      <th>2</th>\n      <td>4</td>\n      <td>2</td>\n      <td>29</td>\n      <td>83</td>\n      <td>126</td>\n      <td>2015/7/21 13:24</td>\n      <td>2</td>\n      <td>1967</td>\n      <td>1</td>\n      <td>0</td>\n      <td>...</td>\n      <td>3</td>\n      <td>3</td>\n      <td>1</td>\n      <td>2</td>\n      <td>3</td>\n      <td>2</td>\n      <td>1</td>\n      <td>4</td>\n      <td>2</td>\n      <td>7</td>\n    </tr>\n    <tr>\n      <th>3</th>\n      <td>5</td>\n      <td>2</td>\n      <td>10</td>\n      <td>28</td>\n      <td>51</td>\n      <td>2015/7/25 17:33</td>\n      <td>2</td>\n      <td>1943</td>\n      <td>1</td>\n      <td>1</td>\n      <td>...</td>\n      <td>3</td>\n      <td>3</td>\n      <td>1</td>\n      <td>1</td>\n      <td>7</td>\n      <td>2</td>\n      <td>1</td>\n      <td>3</td>\n      <td>2</td>\n      <td>7</td>\n    </tr>\n    <tr>\n      <th>4</th>\n      <td>4</td>\n      <td>1</td>\n      <td>7</td>\n      <td>18</td>\n      <td>36</td>\n      <td>2015/8/10 9:50</td>\n      <td>2</td>\n      <td>1994</td>\n      <td>1</td>\n      <td>1</td>\n      <td>...</td>\n      <td>4</td>\n      <td>3</td>\n      <td>1</td>\n      <td>1</td>\n      <td>1</td>\n      <td>3</td>\n      <td>2</td>\n      <td>3</td>\n      <td>-8</td>\n      <td>8</td>\n    </tr>\n  </tbody>\n</table>\n<p>5 rows × 42 columns</p>\n</div>"
     },
     "metadata": {},
     "output_type": "execute_result",
     "execution_count": 5
    }
   ],
   "source": [
    "df_train['month'] = pd.to_datetime(df_train.survey_time).dt.month\n",
    "df_train.head()"
   ]
  },
  {
   "cell_type": "code",
   "execution_count": 6,
   "metadata": {},
   "outputs": [],
   "source": [
    "df_train['day'] = pd.to_datetime(df_train.survey_time).dt.day\n"
   ]
  },
  {
   "cell_type": "code",
   "execution_count": 6,
   "metadata": {
    "pycharm": {
     "is_executing": false
    }
   },
   "outputs": [],
   "source": [
    "df_train['hour'] = pd.to_datetime(df_train.survey_time).dt.hour\n",
    "\n"
   ]
  },
  {
   "cell_type": "code",
   "execution_count": 7,
   "metadata": {
    "pycharm": {
     "is_executing": false
    }
   },
   "outputs": [
    {
     "data": {
      "text/plain": "   happiness  survey_type  province  city  county      survey_time  gender  \\\n0          4            1        12    32      59   2015/8/4 14:18       1   \n1          4            2        18    52      85  2015/7/21 15:04       1   \n2          4            2        29    83     126  2015/7/21 13:24       2   \n3          5            2        10    28      51  2015/7/25 17:33       2   \n4          4            1         7    18      36   2015/8/10 9:50       2   \n\n   birth  nationality  religion  ...  family_status  house  car  marital  \\\n0   1959            1         1  ...              2      1    2        3   \n1   1992            1         1  ...              4      1    2        1   \n2   1967            1         0  ...              3      1    2        3   \n3   1943            1         1  ...              3      1    1        7   \n4   1994            1         1  ...              3      1    1        1   \n\n   status_peer  status_3_before  view  inc_ability  month  hour  \n0            3                2     4            3      8    14  \n1            1                1     4            2      7    15  \n2            2                1     4            2      7    13  \n3            2                1     3            2      7    17  \n4            3                2     3           -8      8     9  \n\n[5 rows x 43 columns]",
      "text/html": "<div>\n<style scoped>\n    .dataframe tbody tr th:only-of-type {\n        vertical-align: middle;\n    }\n\n    .dataframe tbody tr th {\n        vertical-align: top;\n    }\n\n    .dataframe thead th {\n        text-align: right;\n    }\n</style>\n<table border=\"1\" class=\"dataframe\">\n  <thead>\n    <tr style=\"text-align: right;\">\n      <th></th>\n      <th>happiness</th>\n      <th>survey_type</th>\n      <th>province</th>\n      <th>city</th>\n      <th>county</th>\n      <th>survey_time</th>\n      <th>gender</th>\n      <th>birth</th>\n      <th>nationality</th>\n      <th>religion</th>\n      <th>...</th>\n      <th>family_status</th>\n      <th>house</th>\n      <th>car</th>\n      <th>marital</th>\n      <th>status_peer</th>\n      <th>status_3_before</th>\n      <th>view</th>\n      <th>inc_ability</th>\n      <th>month</th>\n      <th>hour</th>\n    </tr>\n  </thead>\n  <tbody>\n    <tr>\n      <th>0</th>\n      <td>4</td>\n      <td>1</td>\n      <td>12</td>\n      <td>32</td>\n      <td>59</td>\n      <td>2015/8/4 14:18</td>\n      <td>1</td>\n      <td>1959</td>\n      <td>1</td>\n      <td>1</td>\n      <td>...</td>\n      <td>2</td>\n      <td>1</td>\n      <td>2</td>\n      <td>3</td>\n      <td>3</td>\n      <td>2</td>\n      <td>4</td>\n      <td>3</td>\n      <td>8</td>\n      <td>14</td>\n    </tr>\n    <tr>\n      <th>1</th>\n      <td>4</td>\n      <td>2</td>\n      <td>18</td>\n      <td>52</td>\n      <td>85</td>\n      <td>2015/7/21 15:04</td>\n      <td>1</td>\n      <td>1992</td>\n      <td>1</td>\n      <td>1</td>\n      <td>...</td>\n      <td>4</td>\n      <td>1</td>\n      <td>2</td>\n      <td>1</td>\n      <td>1</td>\n      <td>1</td>\n      <td>4</td>\n      <td>2</td>\n      <td>7</td>\n      <td>15</td>\n    </tr>\n    <tr>\n      <th>2</th>\n      <td>4</td>\n      <td>2</td>\n      <td>29</td>\n      <td>83</td>\n      <td>126</td>\n      <td>2015/7/21 13:24</td>\n      <td>2</td>\n      <td>1967</td>\n      <td>1</td>\n      <td>0</td>\n      <td>...</td>\n      <td>3</td>\n      <td>1</td>\n      <td>2</td>\n      <td>3</td>\n      <td>2</td>\n      <td>1</td>\n      <td>4</td>\n      <td>2</td>\n      <td>7</td>\n      <td>13</td>\n    </tr>\n    <tr>\n      <th>3</th>\n      <td>5</td>\n      <td>2</td>\n      <td>10</td>\n      <td>28</td>\n      <td>51</td>\n      <td>2015/7/25 17:33</td>\n      <td>2</td>\n      <td>1943</td>\n      <td>1</td>\n      <td>1</td>\n      <td>...</td>\n      <td>3</td>\n      <td>1</td>\n      <td>1</td>\n      <td>7</td>\n      <td>2</td>\n      <td>1</td>\n      <td>3</td>\n      <td>2</td>\n      <td>7</td>\n      <td>17</td>\n    </tr>\n    <tr>\n      <th>4</th>\n      <td>4</td>\n      <td>1</td>\n      <td>7</td>\n      <td>18</td>\n      <td>36</td>\n      <td>2015/8/10 9:50</td>\n      <td>2</td>\n      <td>1994</td>\n      <td>1</td>\n      <td>1</td>\n      <td>...</td>\n      <td>3</td>\n      <td>1</td>\n      <td>1</td>\n      <td>1</td>\n      <td>3</td>\n      <td>2</td>\n      <td>3</td>\n      <td>-8</td>\n      <td>8</td>\n      <td>9</td>\n    </tr>\n  </tbody>\n</table>\n<p>5 rows × 43 columns</p>\n</div>"
     },
     "metadata": {},
     "output_type": "execute_result",
     "execution_count": 7
    }
   ],
   "source": [
    "df_train.head()"
   ]
  },
  {
   "cell_type": "code",
   "execution_count": 8,
   "metadata": {
    "pycharm": {
     "is_executing": false
    }
   },
   "outputs": [],
   "source": [
    "df_test['month'] = pd.to_datetime(df_test.survey_time).dt.month\n",
    "df_test['day'] = pd.to_datetime(df_test.survey_time).dt.day\n",
    "df_test['hour'] = pd.to_datetime(df_test.survey_time).dt.hour\n",
    "df_train = df_train.drop('survey_time', 1)\n",
    "df_test = df_test.drop('survey_time', 1)\n",
    "\n",
    "\n"
   ]
  },
  {
   "cell_type": "code",
   "execution_count": 9,
   "metadata": {
    "pycharm": {
     "is_executing": false
    }
   },
   "outputs": [],
   "source": [
    "df_train = df_train.fillna(0)\n",
    "df_test = df_test.fillna(0)\n",
    "df_train_train = df_train.sample(frac=0.8, random_state=0, axis=0)\n",
    "df_train_validation = df_train[~df_train.index.isin(df_train_train.index)]\n"
   ]
  },
  {
   "cell_type": "code",
   "execution_count": 10,
   "metadata": {
    "pycharm": {
     "is_executing": false
    }
   },
   "outputs": [
    {
     "data": {
      "text/plain": "1597"
     },
     "metadata": {},
     "output_type": "execute_result",
     "execution_count": 10
    }
   ],
   "source": [
    "len(df_train_validation)"
   ]
  },
  {
   "cell_type": "code",
   "execution_count": 11,
   "metadata": {
    "pycharm": {
     "is_executing": false
    }
   },
   "outputs": [
    {
     "name": "stderr",
     "text": [
      "/Users/changqingli/anaconda3/lib/python3.7/site-packages/ipykernel_launcher.py:1: FutureWarning: Method .as_matrix will be removed in a future version. Use .values instead.\n  \"\"\"Entry point for launching an IPython kernel.\n/Users/changqingli/anaconda3/lib/python3.7/site-packages/ipykernel_launcher.py:2: FutureWarning: Method .as_matrix will be removed in a future version. Use .values instead.\n  \n/Users/changqingli/anaconda3/lib/python3.7/site-packages/ipykernel_launcher.py:3: FutureWarning: Method .as_matrix will be removed in a future version. Use .values instead.\n  This is separate from the ipykernel package so we can avoid doing imports until\n"
     ],
     "output_type": "stream"
    },
    {
     "data": {
      "text/plain": "array([[ 3.,  1.,  1., ..., -8.,  9., 10.],\n       [ 4.,  1., 12., ...,  2.,  8., 15.],\n       [ 5.,  1., 21., ...,  2.,  7., 16.],\n       ...,\n       [ 3.,  2., 29., ...,  3.,  7., 19.],\n       [ 5.,  1.,  1., ...,  2.,  9.,  9.],\n       [ 4.,  2., 18., ..., -8.,  7., 12.]])"
     },
     "metadata": {},
     "output_type": "execute_result",
     "execution_count": 11
    }
   ],
   "source": [
    "tr_data = df_train_train.as_matrix()\n",
    "va_data = df_train_validation.as_matrix()\n",
    "te_data = df_test.as_matrix()\n",
    "tr_data"
   ]
  },
  {
   "cell_type": "code",
   "execution_count": 12,
   "metadata": {
    "pycharm": {
     "is_executing": false
    }
   },
   "outputs": [],
   "source": [
    "tr_x_data = tr_data[:, 1:]\n",
    "tr_y_data = tr_data[:, 0]\n",
    "\n",
    "va_x_data = va_data[:, 1:]\n",
    "va_y_data = va_data[:, 0]"
   ]
  },
  {
   "cell_type": "code",
   "execution_count": 13,
   "metadata": {
    "pycharm": {
     "is_executing": false
    }
   },
   "outputs": [
    {
     "data": {
      "text/plain": "41"
     },
     "metadata": {},
     "output_type": "execute_result",
     "execution_count": 13
    }
   ],
   "source": [
    "len(tr_x_data[0])"
   ]
  },
  {
   "cell_type": "code",
   "execution_count": 15,
   "metadata": {
    "pycharm": {
     "is_executing": false
    }
   },
   "outputs": [],
   "source": [
    "mod = xgb.XGBRegressor(max_depth=6,\n",
    "                       learning_rate=0.1,\n",
    "                       n_estimators=100,\n",
    "                       objective='reg:squarederror',\n",
    "                       booster='gbtree',\n",
    "                       gamma=5,\n",
    "                       reg_lambda=10)"
   ]
  },
  {
   "cell_type": "code",
   "execution_count": 16,
   "metadata": {
    "pycharm": {
     "is_executing": false
    }
   },
   "outputs": [
    {
     "data": {
      "text/plain": "XGBRegressor(base_score=0.5, booster='gbtree', colsample_bylevel=1,\n             colsample_bynode=1, colsample_bytree=1, gamma=5,\n             importance_type='gain', learning_rate=0.1, max_delta_step=0,\n             max_depth=6, min_child_weight=1, missing=None, n_estimators=100,\n             n_jobs=1, nthread=None, objective='reg:squarederror',\n             random_state=0, reg_alpha=0, reg_lambda=10, scale_pos_weight=1,\n             seed=None, silent=None, subsample=1, verbosity=1)"
     },
     "metadata": {},
     "output_type": "execute_result",
     "execution_count": 16
    }
   ],
   "source": [
    "mod.fit(tr_x_data, tr_y_data)"
   ]
  },
  {
   "cell_type": "code",
   "execution_count": 17,
   "metadata": {
    "pycharm": {
     "is_executing": false
    }
   },
   "outputs": [
    {
     "data": {
      "text/plain": "0.5309956167814652"
     },
     "metadata": {},
     "output_type": "execute_result",
     "execution_count": 17
    }
   ],
   "source": [
    "va_pred_data = np.round(mod.predict(va_x_data))\n",
    "np.mean((va_pred_data - va_y_data)*(va_pred_data - va_y_data))"
   ]
  },
  {
   "cell_type": "code",
   "execution_count": 18,
   "metadata": {
    "pycharm": {
     "is_executing": false
    }
   },
   "outputs": [
    {
     "traceback": [
      "\u001b[0;31m---------------------------------------------------------------------------\u001b[0m",
      "\u001b[0;31mValueError\u001b[0m                                Traceback (most recent call last)",
      "\u001b[0;32m<ipython-input-18-aa848e929c69>\u001b[0m in \u001b[0;36m<module>\u001b[0;34m\u001b[0m\n\u001b[1;32m      1\u001b[0m \u001b[0mpred_data\u001b[0m \u001b[0;34m=\u001b[0m \u001b[0mte_data\u001b[0m\u001b[0;34m[\u001b[0m\u001b[0;34m:\u001b[0m\u001b[0;34m,\u001b[0m \u001b[0;36m1\u001b[0m\u001b[0;34m:\u001b[0m\u001b[0;34m]\u001b[0m\u001b[0;34m\u001b[0m\u001b[0;34m\u001b[0m\u001b[0m\n\u001b[0;32m----> 2\u001b[0;31m \u001b[0mpred_res\u001b[0m \u001b[0;34m=\u001b[0m \u001b[0mnp\u001b[0m\u001b[0;34m.\u001b[0m\u001b[0mround\u001b[0m\u001b[0;34m(\u001b[0m\u001b[0mmod\u001b[0m\u001b[0;34m.\u001b[0m\u001b[0mpredict\u001b[0m\u001b[0;34m(\u001b[0m\u001b[0mpred_data\u001b[0m\u001b[0;34m)\u001b[0m\u001b[0;34m)\u001b[0m\u001b[0;34m\u001b[0m\u001b[0;34m\u001b[0m\u001b[0m\n\u001b[0m\u001b[1;32m      3\u001b[0m \u001b[0;34m\u001b[0m\u001b[0m\n\u001b[1;32m      4\u001b[0m \u001b[0;32mimport\u001b[0m \u001b[0mcsv\u001b[0m\u001b[0;34m\u001b[0m\u001b[0;34m\u001b[0m\u001b[0m\n\u001b[1;32m      5\u001b[0m \u001b[0mresult\u001b[0m \u001b[0;34m=\u001b[0m \u001b[0;34m'submission_908_xgb_tiaocan.csv'\u001b[0m\u001b[0;34m\u001b[0m\u001b[0;34m\u001b[0m\u001b[0m\n",
      "\u001b[0;32m~/anaconda3/lib/python3.7/site-packages/xgboost/sklearn.py\u001b[0m in \u001b[0;36mpredict\u001b[0;34m(self, data, output_margin, ntree_limit, validate_features)\u001b[0m\n\u001b[1;32m    454\u001b[0m                                           \u001b[0moutput_margin\u001b[0m\u001b[0;34m=\u001b[0m\u001b[0moutput_margin\u001b[0m\u001b[0;34m,\u001b[0m\u001b[0;34m\u001b[0m\u001b[0;34m\u001b[0m\u001b[0m\n\u001b[1;32m    455\u001b[0m                                           \u001b[0mntree_limit\u001b[0m\u001b[0;34m=\u001b[0m\u001b[0mntree_limit\u001b[0m\u001b[0;34m,\u001b[0m\u001b[0;34m\u001b[0m\u001b[0;34m\u001b[0m\u001b[0m\n\u001b[0;32m--> 456\u001b[0;31m                                           validate_features=validate_features)\n\u001b[0m\u001b[1;32m    457\u001b[0m \u001b[0;34m\u001b[0m\u001b[0m\n\u001b[1;32m    458\u001b[0m     \u001b[0;32mdef\u001b[0m \u001b[0mapply\u001b[0m\u001b[0;34m(\u001b[0m\u001b[0mself\u001b[0m\u001b[0;34m,\u001b[0m \u001b[0mX\u001b[0m\u001b[0;34m,\u001b[0m \u001b[0mntree_limit\u001b[0m\u001b[0;34m=\u001b[0m\u001b[0;36m0\u001b[0m\u001b[0;34m)\u001b[0m\u001b[0;34m:\u001b[0m\u001b[0;34m\u001b[0m\u001b[0;34m\u001b[0m\u001b[0m\n",
      "\u001b[0;32m~/anaconda3/lib/python3.7/site-packages/xgboost/core.py\u001b[0m in \u001b[0;36mpredict\u001b[0;34m(self, data, output_margin, ntree_limit, pred_leaf, pred_contribs, approx_contribs, pred_interactions, validate_features)\u001b[0m\n\u001b[1;32m   1282\u001b[0m \u001b[0;34m\u001b[0m\u001b[0m\n\u001b[1;32m   1283\u001b[0m         \u001b[0;32mif\u001b[0m \u001b[0mvalidate_features\u001b[0m\u001b[0;34m:\u001b[0m\u001b[0;34m\u001b[0m\u001b[0;34m\u001b[0m\u001b[0m\n\u001b[0;32m-> 1284\u001b[0;31m             \u001b[0mself\u001b[0m\u001b[0;34m.\u001b[0m\u001b[0m_validate_features\u001b[0m\u001b[0;34m(\u001b[0m\u001b[0mdata\u001b[0m\u001b[0;34m)\u001b[0m\u001b[0;34m\u001b[0m\u001b[0;34m\u001b[0m\u001b[0m\n\u001b[0m\u001b[1;32m   1285\u001b[0m \u001b[0;34m\u001b[0m\u001b[0m\n\u001b[1;32m   1286\u001b[0m         \u001b[0mlength\u001b[0m \u001b[0;34m=\u001b[0m \u001b[0mc_bst_ulong\u001b[0m\u001b[0;34m(\u001b[0m\u001b[0;34m)\u001b[0m\u001b[0;34m\u001b[0m\u001b[0;34m\u001b[0m\u001b[0m\n",
      "\u001b[0;32m~/anaconda3/lib/python3.7/site-packages/xgboost/core.py\u001b[0m in \u001b[0;36m_validate_features\u001b[0;34m(self, data)\u001b[0m\n\u001b[1;32m   1688\u001b[0m \u001b[0;34m\u001b[0m\u001b[0m\n\u001b[1;32m   1689\u001b[0m                 raise ValueError(msg.format(self.feature_names,\n\u001b[0;32m-> 1690\u001b[0;31m                                             data.feature_names))\n\u001b[0m\u001b[1;32m   1691\u001b[0m \u001b[0;34m\u001b[0m\u001b[0m\n\u001b[1;32m   1692\u001b[0m     \u001b[0;32mdef\u001b[0m \u001b[0mget_split_value_histogram\u001b[0m\u001b[0;34m(\u001b[0m\u001b[0mself\u001b[0m\u001b[0;34m,\u001b[0m \u001b[0mfeature\u001b[0m\u001b[0;34m,\u001b[0m \u001b[0mfmap\u001b[0m\u001b[0;34m=\u001b[0m\u001b[0;34m''\u001b[0m\u001b[0;34m,\u001b[0m \u001b[0mbins\u001b[0m\u001b[0;34m=\u001b[0m\u001b[0;32mNone\u001b[0m\u001b[0;34m,\u001b[0m \u001b[0mas_pandas\u001b[0m\u001b[0;34m=\u001b[0m\u001b[0;32mTrue\u001b[0m\u001b[0;34m)\u001b[0m\u001b[0;34m:\u001b[0m\u001b[0;34m\u001b[0m\u001b[0;34m\u001b[0m\u001b[0m\n",
      "\u001b[0;31mValueError\u001b[0m: feature_names mismatch: ['f0', 'f1', 'f2', 'f3', 'f4', 'f5', 'f6', 'f7', 'f8', 'f9', 'f10', 'f11', 'f12', 'f13', 'f14', 'f15', 'f16', 'f17', 'f18', 'f19', 'f20', 'f21', 'f22', 'f23', 'f24', 'f25', 'f26', 'f27', 'f28', 'f29', 'f30', 'f31', 'f32', 'f33', 'f34', 'f35', 'f36', 'f37', 'f38', 'f39', 'f40'] ['f0', 'f1', 'f2', 'f3', 'f4', 'f5', 'f6', 'f7', 'f8', 'f9', 'f10', 'f11', 'f12', 'f13', 'f14', 'f15', 'f16', 'f17', 'f18', 'f19', 'f20', 'f21', 'f22', 'f23', 'f24', 'f25', 'f26', 'f27', 'f28', 'f29', 'f30', 'f31', 'f32', 'f33', 'f34', 'f35', 'f36', 'f37', 'f38', 'f39', 'f40', 'f41']\ntraining data did not have the following fields: f41"
     ],
     "ename": "ValueError",
     "evalue": "feature_names mismatch: ['f0', 'f1', 'f2', 'f3', 'f4', 'f5', 'f6', 'f7', 'f8', 'f9', 'f10', 'f11', 'f12', 'f13', 'f14', 'f15', 'f16', 'f17', 'f18', 'f19', 'f20', 'f21', 'f22', 'f23', 'f24', 'f25', 'f26', 'f27', 'f28', 'f29', 'f30', 'f31', 'f32', 'f33', 'f34', 'f35', 'f36', 'f37', 'f38', 'f39', 'f40'] ['f0', 'f1', 'f2', 'f3', 'f4', 'f5', 'f6', 'f7', 'f8', 'f9', 'f10', 'f11', 'f12', 'f13', 'f14', 'f15', 'f16', 'f17', 'f18', 'f19', 'f20', 'f21', 'f22', 'f23', 'f24', 'f25', 'f26', 'f27', 'f28', 'f29', 'f30', 'f31', 'f32', 'f33', 'f34', 'f35', 'f36', 'f37', 'f38', 'f39', 'f40', 'f41']\ntraining data did not have the following fields: f41",
     "output_type": "error"
    }
   ],
   "source": [
    "pred_data = te_data[:, 1:]\n",
    "pred_res = np.round(mod.predict(pred_data))\n",
    "\n",
    "import csv\n",
    "result = 'submission_908_xgb_tiaocan.csv'\n",
    "with open(data_dir+result, 'w') as f:\n",
    "    writer = csv.writer(f, delimiter=',')\n",
    "    writer.writerow(['id', 'happiness'])\n",
    "    for i in range(len(te_data)):\n",
    "        writer.writerow([int(te_data[i][0]), int(pred_res[i])])"
   ]
  },
  {
   "cell_type": "code",
   "execution_count": null,
   "metadata": {},
   "outputs": [],
   "source": [
    "tr_x_data\n",
    "tr_y_data"
   ]
  }
 ],
 "metadata": {
  "kernelspec": {
   "display_name": "Python 3",
   "language": "python",
   "name": "python3"
  },
  "language_info": {
   "codemirror_mode": {
    "name": "ipython",
    "version": 3
   },
   "file_extension": ".py",
   "mimetype": "text/x-python",
   "name": "python",
   "nbconvert_exporter": "python",
   "pygments_lexer": "ipython3",
   "version": "3.7.3"
  },
  "pycharm": {
   "stem_cell": {
    "cell_type": "raw",
    "source": [],
    "metadata": {
     "collapsed": false
    }
   }
  }
 },
 "nbformat": 4,
 "nbformat_minor": 2
}